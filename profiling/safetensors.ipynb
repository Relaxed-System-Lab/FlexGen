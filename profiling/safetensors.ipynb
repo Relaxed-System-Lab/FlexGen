{
 "cells": [
  {
   "cell_type": "code",
   "execution_count": 1,
   "metadata": {},
   "outputs": [
    {
     "name": "stderr",
     "output_type": "stream",
     "text": [
      "/home/dingfangyu/miniconda3/lib/python3.8/site-packages/tqdm/auto.py:21: TqdmWarning: IProgress not found. Please update jupyter and ipywidgets. See https://ipywidgets.readthedocs.io/en/stable/user_install.html\n",
      "  from .autonotebook import tqdm as notebook_tqdm\n"
     ]
    }
   ],
   "source": [
    "import os\n",
    "import datetime\n",
    "import time\n",
    "from huggingface_hub import hf_hub_download, snapshot_download\n",
    "from safetensors.torch import load_file\n",
    "import torch"
   ]
  },
  {
   "cell_type": "code",
   "execution_count": 2,
   "metadata": {},
   "outputs": [],
   "source": [
    "model_id = 'gpt2'\n",
    "sf_filename = hf_hub_download(model_id, filename=\"model.safetensors\")\n",
    "pt_filename = hf_hub_download(model_id, filename=\"pytorch_model.bin\")"
   ]
  },
  {
   "cell_type": "code",
   "execution_count": 3,
   "metadata": {},
   "outputs": [
    {
     "name": "stdout",
     "output_type": "stream",
     "text": [
      "Loaded safetensors 0.070 s, bdw 7.322 GB/s\n",
      "Loaded pytorch 0.258 s, bdw 1.981 GB/s\n",
      "on CPU, safetensors is faster than pytorch by: 3.7 X\n"
     ]
    }
   ],
   "source": [
    "from transformers import AutoModelForCausalLM\n",
    "\n",
    "start_st = time.time()\n",
    "weights = load_file(sf_filename, device=\"cpu\")\n",
    "dm = sum([v.numel() * v.dtype.itemsize for k, v in weights.items()])\n",
    "s = sum([v.sum() for k, v in weights.items()]) \n",
    "# print(s)\n",
    "# model = AutoModelForCausalLM.from_pretrained('gpt2', use_safetensors=True)\n",
    "load_time_st = time.time() - start_st\n",
    "print(f\"Loaded safetensors {load_time_st:.3f} s, bdw {dm/load_time_st/2**30:.3f} GB/s\")\n",
    "\n",
    "start_pt = time.time()\n",
    "weights = torch.load(pt_filename, map_location=\"cpu\")\n",
    "dm = sum([v.numel() * v.dtype.itemsize for k, v in weights.items()])\n",
    "s = sum([v.sum() for k, v in weights.items()]) \n",
    "# print(s)\n",
    "# model = AutoModelForCausalLM.from_pretrained('gpt2', use_safetensors=False)\n",
    "load_time_pt = time.time() - start_pt\n",
    "print(f\"Loaded pytorch {load_time_pt:.3f} s, bdw {dm/load_time_pt/2**30:.3f} GB/s\")\n",
    "\n",
    "print(f\"on CPU, safetensors is faster than pytorch by: {load_time_pt/load_time_st:.1f} X\")"
   ]
  },
  {
   "cell_type": "code",
   "execution_count": null,
   "metadata": {},
   "outputs": [],
   "source": []
  },
  {
   "cell_type": "code",
   "execution_count": 4,
   "metadata": {},
   "outputs": [],
   "source": [
    "model = AutoModelForCausalLM.from_pretrained('gpt2', use_safetensors=True)\n",
    "model = AutoModelForCausalLM.from_pretrained('gpt2', use_safetensors=False)"
   ]
  }
 ],
 "metadata": {
  "kernelspec": {
   "display_name": "base",
   "language": "python",
   "name": "python3"
  },
  "language_info": {
   "codemirror_mode": {
    "name": "ipython",
    "version": 3
   },
   "file_extension": ".py",
   "mimetype": "text/x-python",
   "name": "python",
   "nbconvert_exporter": "python",
   "pygments_lexer": "ipython3",
   "version": "3.8.18"
  },
  "orig_nbformat": 4
 },
 "nbformat": 4,
 "nbformat_minor": 2
}
