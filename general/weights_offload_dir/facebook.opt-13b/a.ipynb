{
 "cells": [
  {
   "cell_type": "code",
   "execution_count": 1,
   "metadata": {},
   "outputs": [],
   "source": [
    "import torch"
   ]
  },
  {
   "cell_type": "code",
   "execution_count": 2,
   "metadata": {},
   "outputs": [
    {
     "data": {
      "text/plain": [
       "['model.decoder.embed_tokens',\n",
       " 'model.decoder.embed_positions',\n",
       " 'model.decoder.layers.0',\n",
       " 'model.decoder.layers.1',\n",
       " 'model.decoder.layers.2',\n",
       " 'model.decoder.layers.3',\n",
       " 'model.decoder.layers.4',\n",
       " 'model.decoder.layers.5',\n",
       " 'model.decoder.layers.6',\n",
       " 'model.decoder.layers.7',\n",
       " 'model.decoder.layers.8',\n",
       " 'model.decoder.layers.9',\n",
       " 'model.decoder.layers.10',\n",
       " 'model.decoder.layers.11',\n",
       " 'model.decoder.layers.12',\n",
       " 'model.decoder.layers.13',\n",
       " 'model.decoder.layers.14',\n",
       " 'model.decoder.layers.15',\n",
       " 'model.decoder.layers.16',\n",
       " 'model.decoder.layers.17',\n",
       " 'model.decoder.layers.18',\n",
       " 'model.decoder.layers.19',\n",
       " 'model.decoder.layers.20',\n",
       " 'model.decoder.layers.21',\n",
       " 'model.decoder.layers.22',\n",
       " 'model.decoder.layers.23',\n",
       " 'model.decoder.layers.24',\n",
       " 'model.decoder.layers.25',\n",
       " 'model.decoder.layers.26',\n",
       " 'model.decoder.layers.27',\n",
       " 'model.decoder.layers.28',\n",
       " 'model.decoder.layers.29',\n",
       " 'model.decoder.layers.30',\n",
       " 'model.decoder.layers.31',\n",
       " 'model.decoder.layers.32',\n",
       " 'model.decoder.layers.33',\n",
       " 'model.decoder.layers.34',\n",
       " 'model.decoder.layers.35',\n",
       " 'model.decoder.layers.36',\n",
       " 'model.decoder.layers.37',\n",
       " 'model.decoder.layers.38',\n",
       " 'model.decoder.layers.39',\n",
       " 'model.decoder.final_layer_norm',\n",
       " 'lm_head']"
      ]
     },
     "execution_count": 2,
     "metadata": {},
     "output_type": "execute_result"
    }
   ],
   "source": [
    "torch.load('layer_names.pt')"
   ]
  }
 ],
 "metadata": {
  "kernelspec": {
   "display_name": "base",
   "language": "python",
   "name": "python3"
  },
  "language_info": {
   "codemirror_mode": {
    "name": "ipython",
    "version": 3
   },
   "file_extension": ".py",
   "mimetype": "text/x-python",
   "name": "python",
   "nbconvert_exporter": "python",
   "pygments_lexer": "ipython3",
   "version": "3.10.10"
  },
  "orig_nbformat": 4
 },
 "nbformat": 4,
 "nbformat_minor": 2
}
