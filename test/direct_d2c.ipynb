{
 "cells": [
  {
   "cell_type": "code",
   "execution_count": 1,
   "metadata": {},
   "outputs": [],
   "source": [
    "import torch"
   ]
  },
  {
   "cell_type": "code",
   "execution_count": 2,
   "metadata": {},
   "outputs": [],
   "source": [
    "tensor = torch.rand(1, 4096)"
   ]
  },
  {
   "cell_type": "code",
   "execution_count": 3,
   "metadata": {},
   "outputs": [],
   "source": [
    "import os\n",
    "# import mmap # not necessary to use mmap"
   ]
  },
  {
   "cell_type": "code",
   "execution_count": 4,
   "metadata": {},
   "outputs": [],
   "source": [
    "file_path = 'file'"
   ]
  },
  {
   "cell_type": "code",
   "execution_count": 5,
   "metadata": {},
   "outputs": [
    {
     "ename": "OSError",
     "evalue": "[Errno 22] Invalid argument",
     "output_type": "error",
     "traceback": [
      "\u001b[0;31m---------------------------------------------------------------------------\u001b[0m",
      "\u001b[0;31mOSError\u001b[0m                                   Traceback (most recent call last)",
      "Cell \u001b[0;32mIn[5], line 8\u001b[0m\n\u001b[1;32m      6\u001b[0m fd_output \u001b[39m=\u001b[39m os\u001b[39m.\u001b[39mopen(file_path, os\u001b[39m.\u001b[39mO_WRONLY \u001b[39m|\u001b[39m os\u001b[39m.\u001b[39mO_CREAT \u001b[39m|\u001b[39m os\u001b[39m.\u001b[39mO_DIRECT)\n\u001b[1;32m      7\u001b[0m \u001b[39mwith\u001b[39;00m os\u001b[39m.\u001b[39mfdopen(fd_output, \u001b[39m'\u001b[39m\u001b[39mwb\u001b[39m\u001b[39m'\u001b[39m) \u001b[39mas\u001b[39;00m f_out:\n\u001b[0;32m----> 8\u001b[0m     os\u001b[39m.\u001b[39;49mwrite(fd_output, tensor\u001b[39m.\u001b[39;49mcontiguous()\u001b[39m.\u001b[39;49mview(\u001b[39m-\u001b[39;49m\u001b[39m1\u001b[39;49m)\u001b[39m.\u001b[39;49mnumpy()\u001b[39m.\u001b[39;49mtobytes())\n",
      "\u001b[0;31mOSError\u001b[0m: [Errno 22] Invalid argument"
     ]
    }
   ],
   "source": [
    "\n",
    "tensor_size = tensor.shape\n",
    "data_type = tensor.dtype\n",
    "\n",
    "\n",
    "# 以O_DIRECT模式打开文件进行写入\n",
    "fd_output = os.open(file_path, os.O_WRONLY | os.O_CREAT | os.O_DIRECT)\n",
    "with os.fdopen(fd_output, 'wb') as f_out:\n",
    "    os.write(fd_output, tensor.contiguous().view(-1).numpy().tobytes())\n",
    "\n"
   ]
  },
  {
   "cell_type": "code",
   "execution_count": null,
   "metadata": {},
   "outputs": [],
   "source": [
    "\n",
    "# 以O_DIRECT模式打开文件\n",
    "fd = os.open(file_path, os.O_RDONLY | os.O_DIRECT)\n",
    "with os.fdopen(fd, 'rb') as f:\n",
    "    buffer = os.read(fd, torch.prod(tensor_size) * data_type.itemsize)\n",
    "    tensor = torch.tensor(buffer, dtype=data_type).view(*tensor_size)"
   ]
  }
 ],
 "metadata": {
  "kernelspec": {
   "display_name": "base",
   "language": "python",
   "name": "python3"
  },
  "language_info": {
   "codemirror_mode": {
    "name": "ipython",
    "version": 3
   },
   "file_extension": ".py",
   "mimetype": "text/x-python",
   "name": "python",
   "nbconvert_exporter": "python",
   "pygments_lexer": "ipython3",
   "version": "3.12.2"
  },
  "orig_nbformat": 4
 },
 "nbformat": 4,
 "nbformat_minor": 2
}
