{
 "cells": [
  {
   "cell_type": "code",
   "execution_count": 1,
   "metadata": {},
   "outputs": [
    {
     "name": "stderr",
     "output_type": "stream",
     "text": [
      "/home/ubuntu/.local/lib/python3.8/site-packages/tqdm/auto.py:21: TqdmWarning: IProgress not found. Please update jupyter and ipywidgets. See https://ipywidgets.readthedocs.io/en/stable/user_install.html\n",
      "  from .autonotebook import tqdm as notebook_tqdm\n"
     ]
    }
   ],
   "source": [
    "from accelerate import init_empty_weights, load_checkpoint_and_dispatch, infer_auto_device_map, load_checkpoint_in_model\n",
    "from transformers import AutoConfig, AutoModelForCausalLM\n",
    "from huggingface_hub import snapshot_download\n",
    "import torch\n"
   ]
  },
  {
   "cell_type": "code",
   "execution_count": 2,
   "metadata": {},
   "outputs": [],
   "source": [
    "# checkpoint = \"facebook/opt-30b\"\n",
    "# checkpoint = 'intlsy/opt-175b-hyperparam'\n",
    "# checkpoint = \"facebook/opt-125m\"\n",
    "checkpoint = \"facebook/opt-1.3b\"\n",
    "\n",
    "config = AutoConfig.from_pretrained(checkpoint)\n",
    "with init_empty_weights():\n",
    "    model = AutoModelForCausalLM.from_config(config)"
   ]
  },
  {
   "cell_type": "code",
   "execution_count": 3,
   "metadata": {},
   "outputs": [
    {
     "name": "stderr",
     "output_type": "stream",
     "text": [
      "Fetching 1 files: 100%|██████████| 1/1 [00:00<00:00,  5.65it/s]\n"
     ]
    }
   ],
   "source": [
    "weights_location = snapshot_download(checkpoint, allow_patterns=[\"*.bin\", 'pytorch_model.bin.index.json'])#hf_hub_download(checkpoint, \"*.bin\")"
   ]
  },
  {
   "cell_type": "code",
   "execution_count": 4,
   "metadata": {},
   "outputs": [
    {
     "name": "stderr",
     "output_type": "stream",
     "text": [
      "The model weights are not tied. Please use the `tie_weights` method before using the `infer_auto_device` function.\n"
     ]
    },
    {
     "data": {
      "text/plain": [
       "{'': 0}"
      ]
     },
     "execution_count": 4,
     "metadata": {},
     "output_type": "execute_result"
    }
   ],
   "source": [
    "device_map = infer_auto_device_map(model)\n",
    "device_map"
   ]
  },
  {
   "cell_type": "code",
   "execution_count": 10,
   "metadata": {},
   "outputs": [
    {
     "name": "stderr",
     "output_type": "stream",
     "text": [
      "The model weights are not tied. Please use the `tie_weights` method before using the `infer_auto_device` function.\n",
      "The model weights are not tied. Please use the `tie_weights` method before using the `infer_auto_device` function.\n"
     ]
    }
   ],
   "source": [
    "# m = AutoModelForCausalLM.from_pretrained(checkpoint, device_map=device_map, offload_folder='./offload_folder')\n",
    "m = load_checkpoint_and_dispatch( \n",
    "    model, device_map='auto',\n",
    "    offload_folder='./offload_folder',\n",
    "    checkpoint=weights_location,\n",
    "    max_memory={0:0, 1:0, 'cpu': '2GiB'}\n",
    ")\n"
   ]
  },
  {
   "cell_type": "code",
   "execution_count": 11,
   "metadata": {},
   "outputs": [
    {
     "data": {
      "text/plain": [
       "{'model.decoder.embed_tokens': 'cpu',\n",
       " 'model.decoder.embed_positions': 'cpu',\n",
       " 'model.decoder.final_layer_norm': 'cpu',\n",
       " 'model.decoder.layers.0': 'cpu',\n",
       " 'model.decoder.layers.1': 'cpu',\n",
       " 'model.decoder.layers.2': 'cpu',\n",
       " 'model.decoder.layers.3': 'cpu',\n",
       " 'model.decoder.layers.4': 'cpu',\n",
       " 'model.decoder.layers.5': 'cpu',\n",
       " 'model.decoder.layers.6': 'cpu',\n",
       " 'model.decoder.layers.7': 'cpu',\n",
       " 'model.decoder.layers.8': 'cpu',\n",
       " 'model.decoder.layers.9': 'cpu',\n",
       " 'model.decoder.layers.10': 'cpu',\n",
       " 'model.decoder.layers.11': 'cpu',\n",
       " 'model.decoder.layers.12': 'cpu',\n",
       " 'model.decoder.layers.13': 'cpu',\n",
       " 'model.decoder.layers.14': 'cpu',\n",
       " 'model.decoder.layers.15': 'cpu',\n",
       " 'model.decoder.layers.16': 'cpu',\n",
       " 'model.decoder.layers.17.self_attn.k_proj': 'cpu',\n",
       " 'model.decoder.layers.17.self_attn.v_proj': 'disk',\n",
       " 'model.decoder.layers.17.self_attn.q_proj': 'disk',\n",
       " 'model.decoder.layers.17.self_attn.out_proj': 'disk',\n",
       " 'model.decoder.layers.17.activation_fn': 'disk',\n",
       " 'model.decoder.layers.17.self_attn_layer_norm': 'disk',\n",
       " 'model.decoder.layers.17.fc1': 'disk',\n",
       " 'model.decoder.layers.17.fc2': 'disk',\n",
       " 'model.decoder.layers.17.final_layer_norm': 'disk',\n",
       " 'model.decoder.layers.18': 'disk',\n",
       " 'model.decoder.layers.19': 'disk',\n",
       " 'model.decoder.layers.20': 'disk',\n",
       " 'model.decoder.layers.21': 'disk',\n",
       " 'model.decoder.layers.22': 'disk',\n",
       " 'model.decoder.layers.23': 'disk',\n",
       " 'lm_head': 'disk'}"
      ]
     },
     "execution_count": 11,
     "metadata": {},
     "output_type": "execute_result"
    }
   ],
   "source": [
    "m.hf_device_map"
   ]
  }
 ],
 "metadata": {
  "kernelspec": {
   "display_name": "base",
   "language": "python",
   "name": "python3"
  },
  "language_info": {
   "codemirror_mode": {
    "name": "ipython",
    "version": 3
   },
   "file_extension": ".py",
   "mimetype": "text/x-python",
   "name": "python",
   "nbconvert_exporter": "python",
   "pygments_lexer": "ipython3",
   "version": "3.8.10"
  },
  "orig_nbformat": 4
 },
 "nbformat": 4,
 "nbformat_minor": 2
}
