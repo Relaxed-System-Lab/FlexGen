{
 "cells": [
  {
   "cell_type": "code",
   "execution_count": 2,
   "metadata": {},
   "outputs": [
    {
     "name": "stderr",
     "output_type": "stream",
     "text": [
      "/home/fsuser/miniconda3/lib/python3.10/site-packages/torch/cuda/__init__.py:546: UserWarning: Can't initialize NVML\n",
      "  warnings.warn(\"Can't initialize NVML\")\n"
     ]
    }
   ],
   "source": [
    "from accelerate import init_empty_weights, load_checkpoint_and_dispatch, infer_auto_device_map, load_checkpoint_in_model\n",
    "from transformers import AutoConfig, AutoModelForCausalLM\n",
    "from huggingface_hub import snapshot_download\n",
    "import torch\n"
   ]
  },
  {
   "cell_type": "code",
   "execution_count": 5,
   "metadata": {},
   "outputs": [
    {
     "data": {
      "application/vnd.jupyter.widget-view+json": {
       "model_id": "8d7464be96594344804b27d08f97dfc2",
       "version_major": 2,
       "version_minor": 0
      },
      "text/plain": [
       "Fetching 3 files:   0%|          | 0/3 [00:00<?, ?it/s]"
      ]
     },
     "metadata": {},
     "output_type": "display_data"
    }
   ],
   "source": [
    "# checkpoint = \"facebook/opt-30b\"\n",
    "# checkpoint = 'intlsy/opt-175b-hyperparam'\n",
    "# checkpoint = \"facebook/opt-125m\"\n",
    "checkpoint = \"facebook/opt-6.7b\"\n",
    "weights_location = snapshot_download(checkpoint, allow_patterns=[\"*.bin\", 'pytorch_model.bin.index.json'])#hf_hub_download(checkpoint, \"*.bin\")\n",
    "\n",
    "with init_empty_weights():\n",
    "    config = AutoConfig.from_pretrained(checkpoint)\n",
    "    model = AutoModelForCausalLM.from_config(config)"
   ]
  },
  {
   "cell_type": "code",
   "execution_count": 6,
   "metadata": {},
   "outputs": [
    {
     "name": "stderr",
     "output_type": "stream",
     "text": [
      "The model weights are not tied. Please use the `tie_weights` method before using the `infer_auto_device` function.\n"
     ]
    }
   ],
   "source": [
    "device_map = infer_auto_device_map(model)"
   ]
  },
  {
   "cell_type": "code",
   "execution_count": null,
   "metadata": {},
   "outputs": [],
   "source": [
    "device_map"
   ]
  },
  {
   "cell_type": "code",
   "execution_count": 4,
   "metadata": {},
   "outputs": [],
   "source": [
    "# device_map['model.decoder.embed_tokens'] = 'disk'"
   ]
  },
  {
   "cell_type": "code",
   "execution_count": 5,
   "metadata": {},
   "outputs": [
    {
     "data": {
      "text/plain": [
       "{'model.decoder.embed_tokens': 'cpu',\n",
       " 'lm_head': 'cpu',\n",
       " 'model.decoder.embed_positions': 'cpu',\n",
       " 'model.decoder.final_layer_norm': 'cpu',\n",
       " 'model.decoder.layers.0': 'cpu',\n",
       " 'model.decoder.layers.1': 'cpu',\n",
       " 'model.decoder.layers.2': 'cpu',\n",
       " 'model.decoder.layers.3': 'cpu',\n",
       " 'model.decoder.layers.4': 'cpu',\n",
       " 'model.decoder.layers.5': 'cpu',\n",
       " 'model.decoder.layers.6': 'cpu',\n",
       " 'model.decoder.layers.7': 'cpu',\n",
       " 'model.decoder.layers.8': 'cpu',\n",
       " 'model.decoder.layers.9': 'cpu',\n",
       " 'model.decoder.layers.10': 'cpu',\n",
       " 'model.decoder.layers.11': 'cpu',\n",
       " 'model.decoder.layers.12': 'cpu',\n",
       " 'model.decoder.layers.13': 'cpu',\n",
       " 'model.decoder.layers.14': 'cpu',\n",
       " 'model.decoder.layers.15.self_attn': 'cpu',\n",
       " 'model.decoder.layers.15.activation_fn': 'cpu',\n",
       " 'model.decoder.layers.15.self_attn_layer_norm': 'cpu',\n",
       " 'model.decoder.layers.15.fc1': 'disk',\n",
       " 'model.decoder.layers.15.fc2': 'disk',\n",
       " 'model.decoder.layers.15.final_layer_norm': 'disk',\n",
       " 'model.decoder.layers.16': 'disk',\n",
       " 'model.decoder.layers.17': 'disk',\n",
       " 'model.decoder.layers.18': 'disk',\n",
       " 'model.decoder.layers.19': 'disk',\n",
       " 'model.decoder.layers.20': 'disk',\n",
       " 'model.decoder.layers.21': 'disk',\n",
       " 'model.decoder.layers.22': 'disk',\n",
       " 'model.decoder.layers.23': 'disk',\n",
       " 'model.decoder.layers.24': 'disk',\n",
       " 'model.decoder.layers.25': 'disk',\n",
       " 'model.decoder.layers.26': 'disk',\n",
       " 'model.decoder.layers.27': 'disk',\n",
       " 'model.decoder.layers.28': 'disk',\n",
       " 'model.decoder.layers.29': 'disk',\n",
       " 'model.decoder.layers.30': 'disk',\n",
       " 'model.decoder.layers.31': 'disk'}"
      ]
     },
     "execution_count": 5,
     "metadata": {},
     "output_type": "execute_result"
    }
   ],
   "source": [
    "device_map"
   ]
  },
  {
   "cell_type": "code",
   "execution_count": 7,
   "metadata": {},
   "outputs": [
    {
     "data": {
      "application/vnd.jupyter.widget-view+json": {
       "model_id": "1b5d503f09aa475a91bcf1bf63aab87e",
       "version_major": 2,
       "version_minor": 0
      },
      "text/plain": [
       "Loading checkpoint shards:   0%|          | 0/2 [00:00<?, ?it/s]"
      ]
     },
     "metadata": {},
     "output_type": "display_data"
    },
    {
     "ename": "",
     "evalue": "",
     "output_type": "error",
     "traceback": [
      "\u001b[1;31mCannot execute code, session has been disposed. Please try restarting the Kernel."
     ]
    },
    {
     "ename": "",
     "evalue": "",
     "output_type": "error",
     "traceback": [
      "\u001b[1;31mThe Kernel crashed while executing code in the the current cell or a previous cell. Please review the code in the cell(s) to identify a possible cause of the failure. Click <a href='https://aka.ms/vscodeJupyterKernelCrash'>here</a> for more info. View Jupyter <a href='command:jupyter.viewOutput'>log</a> for further details."
     ]
    }
   ],
   "source": [
    "m = AutoModelForCausalLM.from_pretrained(checkpoint, device_map=device_map, offload_folder='./offload_folder')\n",
    "# model = load_checkpoint_and_dispatch( \n",
    "#     model, device_map=device_map,\n",
    "#     offload_folder='./offload_folder',\n",
    "#     checkpoint=weights_location,\n",
    "#     max_memory={'cpu':'2GiB'}\n",
    "# )\n",
    "\n",
    "# model = load_checkpoint_in_model( \n",
    "#     model, device_map=device_map,\n",
    "#     offload_folder='./offload_folder',\n",
    "#     checkpoint=weights_location,\n",
    "#     # max_memory={'cpu':'2GiB'}\n",
    "# )"
   ]
  },
  {
   "cell_type": "code",
   "execution_count": null,
   "metadata": {},
   "outputs": [
    {
     "data": {
      "text/plain": [
       "{'': 'cpu'}"
      ]
     },
     "execution_count": 5,
     "metadata": {},
     "output_type": "execute_result"
    }
   ],
   "source": [
    "m.hf_device_map"
   ]
  }
 ],
 "metadata": {
  "kernelspec": {
   "display_name": "base",
   "language": "python",
   "name": "python3"
  },
  "language_info": {
   "codemirror_mode": {
    "name": "ipython",
    "version": 3
   },
   "file_extension": ".py",
   "mimetype": "text/x-python",
   "name": "python",
   "nbconvert_exporter": "python",
   "pygments_lexer": "ipython3",
   "version": "3.10.10"
  },
  "orig_nbformat": 4
 },
 "nbformat": 4,
 "nbformat_minor": 2
}
