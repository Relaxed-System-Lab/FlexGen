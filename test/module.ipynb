{
 "cells": [
  {
   "cell_type": "code",
   "execution_count": 1,
   "metadata": {},
   "outputs": [],
   "source": [
    "import torch\n",
    "from torch import nn"
   ]
  },
  {
   "cell_type": "code",
   "execution_count": 2,
   "metadata": {},
   "outputs": [],
   "source": [
    "m = nn.Linear(3, 3)"
   ]
  },
  {
   "cell_type": "code",
   "execution_count": 3,
   "metadata": {},
   "outputs": [
    {
     "data": {
      "text/plain": [
       "[('weight',\n",
       "  Parameter containing:\n",
       "  tensor([[-0.3332,  0.0516,  0.1634],\n",
       "          [-0.1141, -0.3354,  0.2466],\n",
       "          [ 0.2443,  0.5538, -0.0332]], requires_grad=True)),\n",
       " ('bias',\n",
       "  Parameter containing:\n",
       "  tensor([0.0147, 0.4376, 0.0512], requires_grad=True))]"
      ]
     },
     "execution_count": 3,
     "metadata": {},
     "output_type": "execute_result"
    }
   ],
   "source": [
    "list(m.named_parameters())"
   ]
  },
  {
   "cell_type": "code",
   "execution_count": 4,
   "metadata": {},
   "outputs": [],
   "source": [
    "x = torch.tensor([1.,2,3])"
   ]
  },
  {
   "cell_type": "code",
   "execution_count": 5,
   "metadata": {},
   "outputs": [
    {
     "data": {
      "text/plain": [
       "tensor([0.2748, 0.3926, 1.3036], grad_fn=<ViewBackward0>)"
      ]
     },
     "execution_count": 5,
     "metadata": {},
     "output_type": "execute_result"
    }
   ],
   "source": [
    "m(x)"
   ]
  },
  {
   "cell_type": "code",
   "execution_count": 6,
   "metadata": {},
   "outputs": [
    {
     "data": {
      "text/plain": [
       "Parameter containing:\n",
       "tensor([[-0.3332,  0.0516,  0.1634],\n",
       "        [-0.1141, -0.3354,  0.2466],\n",
       "        [ 0.2443,  0.5538, -0.0332]], requires_grad=True)"
      ]
     },
     "execution_count": 6,
     "metadata": {},
     "output_type": "execute_result"
    }
   ],
   "source": [
    "w = m.weight\n",
    "w"
   ]
  },
  {
   "cell_type": "code",
   "execution_count": 7,
   "metadata": {},
   "outputs": [
    {
     "data": {
      "text/plain": [
       "tensor([[-0.3332, -0.1141,  0.2443],\n",
       "        [ 0.0516, -0.3354,  0.5538],\n",
       "        [ 0.1634,  0.2466, -0.0332]], grad_fn=<PermuteBackward0>)"
      ]
     },
     "execution_count": 7,
     "metadata": {},
     "output_type": "execute_result"
    }
   ],
   "source": [
    "w.T"
   ]
  },
  {
   "cell_type": "code",
   "execution_count": 8,
   "metadata": {},
   "outputs": [
    {
     "data": {
      "text/plain": [
       "False"
      ]
     },
     "execution_count": 8,
     "metadata": {},
     "output_type": "execute_result"
    }
   ],
   "source": [
    "w.T.is_contiguous()"
   ]
  },
  {
   "cell_type": "code",
   "execution_count": 9,
   "metadata": {},
   "outputs": [],
   "source": [
    "wt = w.T"
   ]
  },
  {
   "cell_type": "code",
   "execution_count": 10,
   "metadata": {},
   "outputs": [
    {
     "data": {
      "text/plain": [
       "Parameter containing:\n",
       "tensor([[-0.3332, -0.1141,  0.2443],\n",
       "        [ 0.0516, -0.3354,  0.5538],\n",
       "        [ 0.1634,  0.2466, -0.0332]], requires_grad=True)"
      ]
     },
     "execution_count": 10,
     "metadata": {},
     "output_type": "execute_result"
    }
   ],
   "source": [
    "# assign to module state\n",
    "m.weight = nn.Parameter(wt) \n",
    "m.weight"
   ]
  },
  {
   "cell_type": "code",
   "execution_count": 11,
   "metadata": {},
   "outputs": [
    {
     "data": {
      "text/plain": [
       "False"
      ]
     },
     "execution_count": 11,
     "metadata": {},
     "output_type": "execute_result"
    }
   ],
   "source": [
    "m.weight.is_contiguous()"
   ]
  },
  {
   "cell_type": "code",
   "execution_count": 12,
   "metadata": {},
   "outputs": [
    {
     "data": {
      "text/plain": [
       "tensor([0.1862, 1.4799, 0.6083], grad_fn=<ViewBackward0>)"
      ]
     },
     "execution_count": 12,
     "metadata": {},
     "output_type": "execute_result"
    }
   ],
   "source": [
    "m(x)"
   ]
  },
  {
   "cell_type": "code",
   "execution_count": 13,
   "metadata": {},
   "outputs": [],
   "source": [
    "with torch.no_grad():\n",
    "    m.weight[:] = 0"
   ]
  },
  {
   "cell_type": "code",
   "execution_count": 14,
   "metadata": {},
   "outputs": [
    {
     "data": {
      "text/plain": [
       "Parameter containing:\n",
       "tensor([[0., 0., 0.],\n",
       "        [0., 0., 0.],\n",
       "        [0., 0., 0.]], requires_grad=True)"
      ]
     },
     "execution_count": 14,
     "metadata": {},
     "output_type": "execute_result"
    }
   ],
   "source": [
    "m.weight"
   ]
  },
  {
   "cell_type": "code",
   "execution_count": 17,
   "metadata": {},
   "outputs": [
    {
     "data": {
      "text/plain": [
       "tensor([[-2.9138e-01,  3.0925e-41],\n",
       "        [ 0.0000e+00,  1.4013e-45]])"
      ]
     },
     "execution_count": 17,
     "metadata": {},
     "output_type": "execute_result"
    }
   ],
   "source": [
    "a = torch.empty((2,2))\n",
    "a"
   ]
  },
  {
   "cell_type": "code",
   "execution_count": 21,
   "metadata": {},
   "outputs": [
    {
     "data": {
      "text/plain": [
       "tensor(..., device='meta', size=(10, 10))"
      ]
     },
     "execution_count": 21,
     "metadata": {},
     "output_type": "execute_result"
    }
   ],
   "source": [
    "# meta tensor\n",
    "a = torch.ones((10, 10), device='meta')\n",
    "a"
   ]
  },
  {
   "cell_type": "code",
   "execution_count": 24,
   "metadata": {},
   "outputs": [
    {
     "data": {
      "text/plain": [
       "tensor(..., device='meta', size=(10, 10))"
      ]
     },
     "execution_count": 24,
     "metadata": {},
     "output_type": "execute_result"
    }
   ],
   "source": [
    "a[0] = torch.ones(10)\n",
    "a"
   ]
  },
  {
   "cell_type": "code",
   "execution_count": 25,
   "metadata": {},
   "outputs": [
    {
     "data": {
      "text/plain": [
       "tensor(..., device='meta', size=(10,))"
      ]
     },
     "execution_count": 25,
     "metadata": {},
     "output_type": "execute_result"
    }
   ],
   "source": [
    "a[0]"
   ]
  },
  {
   "cell_type": "code",
   "execution_count": 34,
   "metadata": {},
   "outputs": [
    {
     "data": {
      "text/plain": [
       "nested_tensor([\n",
       "  tensor([1.]),\n",
       "  tensor([2.])\n",
       "])"
      ]
     },
     "execution_count": 34,
     "metadata": {},
     "output_type": "execute_result"
    }
   ],
   "source": [
    "nt = torch.nested.nested_tensor([[1.],[2.]], )\n",
    "nt"
   ]
  },
  {
   "cell_type": "code",
   "execution_count": 39,
   "metadata": {},
   "outputs": [
    {
     "data": {
      "text/plain": [
       "(tensor([1, 2]),\n",
       " tensor([[0, 0],\n",
       "         [3, 4]]))"
      ]
     },
     "execution_count": 39,
     "metadata": {},
     "output_type": "execute_result"
    }
   ],
   "source": [
    "a = torch.tensor([1,2])\n",
    "b = torch.tensor([3,4])\n",
    "c = torch.stack((a,b))\n",
    "c[0] = 0\n",
    "a, c"
   ]
  },
  {
   "cell_type": "code",
   "execution_count": 40,
   "metadata": {},
   "outputs": [
    {
     "name": "stdout",
     "output_type": "stream",
     "text": [
      "tensor([5.4208e-01, 1.9437e-01, 8.4187e-01, 2.1561e-01, 6.4671e-05, 7.5913e-01,\n",
      "        7.0953e-01, 1.3022e-01, 5.0774e-01, 3.2179e-02, 5.6204e-01, 4.3706e-01,\n",
      "        3.9700e-01, 5.2272e-01, 1.6539e-02, 4.5536e-02, 7.5320e-01, 3.7770e-02,\n",
      "        5.0376e-01, 6.3928e-01, 6.2053e-01, 3.2952e-01, 6.5412e-01, 2.5200e-01,\n",
      "        3.0689e-01, 2.1088e-01, 8.1823e-01, 1.0272e-01, 2.6544e-01, 7.6751e-01,\n",
      "        3.0382e-01, 9.1469e-01, 5.1375e-01, 6.6848e-01, 6.4021e-01, 2.5999e-02,\n",
      "        4.6553e-01, 3.8007e-01, 3.4215e-01, 5.3961e-01])\n",
      "tensor([[5.4208e-01, 1.9437e-01, 8.4187e-01, 2.1561e-01, 6.4671e-05, 7.5913e-01,\n",
      "         7.0953e-01, 1.3022e-01, 5.0774e-01, 3.2179e-02, 5.6204e-01, 4.3706e-01,\n",
      "         3.9700e-01, 5.2272e-01, 1.6539e-02, 4.5536e-02, 7.5320e-01, 3.7770e-02,\n",
      "         5.0376e-01, 6.3928e-01],\n",
      "        [5.6204e-01, 4.3706e-01, 3.9700e-01, 5.2272e-01, 1.6539e-02, 4.5536e-02,\n",
      "         7.5320e-01, 3.7770e-02, 5.0376e-01, 6.3928e-01, 6.2053e-01, 3.2952e-01,\n",
      "         6.5412e-01, 2.5200e-01, 3.0689e-01, 2.1088e-01, 8.1823e-01, 1.0272e-01,\n",
      "         2.6544e-01, 7.6751e-01],\n",
      "        [6.2053e-01, 3.2952e-01, 6.5412e-01, 2.5200e-01, 3.0689e-01, 2.1088e-01,\n",
      "         8.1823e-01, 1.0272e-01, 2.6544e-01, 7.6751e-01, 3.0382e-01, 9.1469e-01,\n",
      "         5.1375e-01, 6.6848e-01, 6.4021e-01, 2.5999e-02, 4.6553e-01, 3.8007e-01,\n",
      "         3.4215e-01, 5.3961e-01]])\n",
      "tensor([1.7247, 0.9610, 1.8930, 0.9903, 0.3235, 1.0155, 2.2810, 0.2707, 1.2769,\n",
      "        1.4390, 1.4864, 1.6813, 1.5649, 1.4432, 0.9636, 0.2824, 2.0370, 0.5206,\n",
      "        1.1113, 1.9464])\n"
     ]
    }
   ],
   "source": [
    "a = torch.rand(40)\n",
    "\n",
    "print(a)\n",
    "\n",
    "size_slices = 20\n",
    "size_overlap = 10\n",
    "nb_slices = 3\n",
    "b = a.as_strided((nb_slices, size_slices), (size_slices-size_overlap, 1), 0)\n",
    "print(b)\n",
    "\n",
    "print(b.sum(0))"
   ]
  }
 ],
 "metadata": {
  "kernelspec": {
   "display_name": "base",
   "language": "python",
   "name": "python3"
  },
  "language_info": {
   "codemirror_mode": {
    "name": "ipython",
    "version": 3
   },
   "file_extension": ".py",
   "mimetype": "text/x-python",
   "name": "python",
   "nbconvert_exporter": "python",
   "pygments_lexer": "ipython3",
   "version": "3.12.2"
  },
  "orig_nbformat": 4
 },
 "nbformat": 4,
 "nbformat_minor": 2
}
