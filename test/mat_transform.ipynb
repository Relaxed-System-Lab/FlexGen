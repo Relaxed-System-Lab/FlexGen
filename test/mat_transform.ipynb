{
 "cells": [
  {
   "cell_type": "code",
   "execution_count": 2,
   "metadata": {},
   "outputs": [
    {
     "name": "stderr",
     "output_type": "stream",
     "text": [
      "/home/dingfangyu/miniconda3/lib/python3.12/site-packages/tqdm/auto.py:21: TqdmWarning: IProgress not found. Please update jupyter and ipywidgets. See https://ipywidgets.readthedocs.io/en/stable/user_install.html\n",
      "  from .autonotebook import tqdm as notebook_tqdm\n"
     ]
    }
   ],
   "source": [
    "import torch\n",
    "import torch.nn as nn\n",
    "from transformers import AutoModelForCausalLM, AutoTokenizer, AutoConfig, OPTForCausalLM, MistralForCausalLM"
   ]
  },
  {
   "cell_type": "code",
   "execution_count": 3,
   "metadata": {},
   "outputs": [
    {
     "name": "stderr",
     "output_type": "stream",
     "text": [
      "Loading checkpoint shards: 100%|██████████| 15/15 [00:18<00:00,  1.22s/it]\n"
     ]
    }
   ],
   "source": [
    "model_id = 'meta-llama/Llama-2-70b-hf'\n",
    "\n",
    "model = AutoModelForCausalLM.from_pretrained(model_id)"
   ]
  },
  {
   "cell_type": "code",
   "execution_count": 4,
   "metadata": {},
   "outputs": [],
   "source": [
    "W_K = model.model.layers[0].self_attn.k_proj.weight#.T\n",
    "W_V = model.model.layers[0].self_attn.v_proj.weight#.T\n",
    "X = torch.randn(100, 8192)"
   ]
  },
  {
   "cell_type": "code",
   "execution_count": 5,
   "metadata": {},
   "outputs": [],
   "source": [
    "W_K_pinv = torch.linalg.pinv(W_K)"
   ]
  },
  {
   "cell_type": "code",
   "execution_count": 6,
   "metadata": {},
   "outputs": [
    {
     "data": {
      "text/plain": [
       "(torch.Size([8192, 1024]), torch.Size([1024, 8192]))"
      ]
     },
     "execution_count": 6,
     "metadata": {},
     "output_type": "execute_result"
    }
   ],
   "source": [
    "W_K_pinv.shape, W_K.shape"
   ]
  },
  {
   "cell_type": "code",
   "execution_count": 7,
   "metadata": {},
   "outputs": [
    {
     "data": {
      "text/plain": [
       "tensor([[ 1.0306e-01, -1.0693e-04, -3.2222e-03,  ...,  5.3073e-03,\n",
       "          4.3491e-04,  5.5801e-03],\n",
       "        [-1.0745e-04,  7.9584e-02,  1.0892e-03,  ..., -2.2894e-03,\n",
       "          2.9489e-03,  5.1781e-03],\n",
       "        [-3.2223e-03,  1.0894e-03,  7.4302e-02,  ..., -1.7048e-03,\n",
       "         -3.8307e-03, -2.8403e-04],\n",
       "        ...,\n",
       "        [ 5.3073e-03, -2.2893e-03, -1.7048e-03,  ...,  9.3425e-02,\n",
       "          2.1545e-03,  4.0117e-03],\n",
       "        [ 4.3507e-04,  2.9494e-03, -3.8303e-03,  ...,  2.1545e-03,\n",
       "          1.6254e-01, -6.2004e-03],\n",
       "        [ 5.5801e-03,  5.1784e-03, -2.8379e-04,  ...,  4.0117e-03,\n",
       "         -6.2003e-03,  2.2664e-01]], grad_fn=<MmBackward0>)"
      ]
     },
     "execution_count": 7,
     "metadata": {},
     "output_type": "execute_result"
    }
   ],
   "source": [
    "W_K_pinv @ W_K"
   ]
  },
  {
   "cell_type": "code",
   "execution_count": 8,
   "metadata": {},
   "outputs": [
    {
     "data": {
      "text/plain": [
       "tensor([[ 1.0000e+00, -4.7544e-07,  2.4214e-08,  ...,  2.2631e-07,\n",
       "         -2.8871e-08, -9.5461e-09],\n",
       "        [-4.9774e-06,  1.0000e+00,  2.4971e-07,  ..., -6.0536e-07,\n",
       "         -8.2422e-07, -6.7241e-07],\n",
       "        [ 1.8582e-06,  1.3039e-08,  1.0000e+00,  ..., -5.3551e-07,\n",
       "         -1.8906e-07, -1.0128e-07],\n",
       "        ...,\n",
       "        [ 2.3049e-06, -1.6764e-08,  5.2294e-07,  ...,  1.0000e+00,\n",
       "          2.6822e-07, -4.0233e-07],\n",
       "        [-1.6261e-06,  1.0431e-07, -5.5367e-07,  ...,  1.1325e-06,\n",
       "          1.0000e+00, -7.8231e-08],\n",
       "        [-2.9895e-07,  1.6578e-07,  2.5216e-07,  ..., -1.4007e-06,\n",
       "          3.0827e-07,  1.0000e+00]], grad_fn=<MmBackward0>)"
      ]
     },
     "execution_count": 8,
     "metadata": {},
     "output_type": "execute_result"
    }
   ],
   "source": [
    "W_K @ W_K_pinv "
   ]
  },
  {
   "cell_type": "code",
   "execution_count": 10,
   "metadata": {},
   "outputs": [
    {
     "data": {
      "text/plain": [
       "tensor(0.0004, grad_fn=<DistBackward0>)"
      ]
     },
     "execution_count": 10,
     "metadata": {},
     "output_type": "execute_result"
    }
   ],
   "source": [
    "torch.dist(W_K @ W_K_pinv @ W_V, W_V)"
   ]
  },
  {
   "cell_type": "code",
   "execution_count": 11,
   "metadata": {},
   "outputs": [
    {
     "data": {
      "text/plain": [
       "tensor(1024)"
      ]
     },
     "execution_count": 11,
     "metadata": {},
     "output_type": "execute_result"
    }
   ],
   "source": [
    "torch.linalg.matrix_rank(W_K_pinv @ W_V)"
   ]
  },
  {
   "cell_type": "code",
   "execution_count": 12,
   "metadata": {},
   "outputs": [
    {
     "data": {
      "text/plain": [
       "torch.Size([8192, 8192])"
      ]
     },
     "execution_count": 12,
     "metadata": {},
     "output_type": "execute_result"
    }
   ],
   "source": [
    "(W_K_pinv @ W_V).shape"
   ]
  },
  {
   "cell_type": "code",
   "execution_count": 13,
   "metadata": {},
   "outputs": [],
   "source": [
    "A = W_K_pinv @ W_V"
   ]
  },
  {
   "cell_type": "code",
   "execution_count": 18,
   "metadata": {},
   "outputs": [
    {
     "data": {
      "text/plain": [
       "tensor(0.0035, grad_fn=<DistBackward0>)"
      ]
     },
     "execution_count": 18,
     "metadata": {},
     "output_type": "execute_result"
    }
   ],
   "source": [
    "torch.dist(W_K @ A @ X.T, W_V @ X.T)"
   ]
  },
  {
   "cell_type": "code",
   "execution_count": 20,
   "metadata": {},
   "outputs": [],
   "source": [
    "A_p = torch.linalg.pinv(A)"
   ]
  }
 ],
 "metadata": {
  "kernelspec": {
   "display_name": "base",
   "language": "python",
   "name": "python3"
  },
  "language_info": {
   "codemirror_mode": {
    "name": "ipython",
    "version": 3
   },
   "file_extension": ".py",
   "mimetype": "text/x-python",
   "name": "python",
   "nbconvert_exporter": "python",
   "pygments_lexer": "ipython3",
   "version": "3.12.2"
  },
  "orig_nbformat": 4
 },
 "nbformat": 4,
 "nbformat_minor": 2
}
