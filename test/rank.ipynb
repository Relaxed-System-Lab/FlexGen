{
 "cells": [
  {
   "cell_type": "code",
   "execution_count": 15,
   "metadata": {},
   "outputs": [
    {
     "name": "stderr",
     "output_type": "stream",
     "text": [
      "/home/dingfangyu/miniconda3/lib/python3.12/site-packages/tqdm/auto.py:21: TqdmWarning: IProgress not found. Please update jupyter and ipywidgets. See https://ipywidgets.readthedocs.io/en/stable/user_install.html\n",
      "  from .autonotebook import tqdm as notebook_tqdm\n"
     ]
    }
   ],
   "source": [
    "import torch\n",
    "import torch.nn as nn\n",
    "from transformers import AutoModelForCausalLM, AutoTokenizer, AutoConfig, OPTForCausalLM, MistralForCausalLM"
   ]
  },
  {
   "cell_type": "code",
   "execution_count": 16,
   "metadata": {},
   "outputs": [],
   "source": [
    "model_id = 'facebook/opt-125m'\n",
    "\n",
    "model = AutoModelForCausalLM.from_pretrained(model_id, torch_dtype=torch.float16)"
   ]
  },
  {
   "cell_type": "code",
   "execution_count": 20,
   "metadata": {},
   "outputs": [
    {
     "data": {
      "text/plain": [
       "Parameter containing:\n",
       "tensor([[ 7.8796e-02,  9.4938e-04,  6.5308e-03,  ..., -4.6875e-02,\n",
       "          3.9642e-02,  1.1843e-04],\n",
       "        [ 2.0361e-01,  1.6589e-01, -3.3989e-03,  ..., -4.5959e-02,\n",
       "         -4.7058e-02, -4.8035e-02],\n",
       "        [ 3.6865e-02,  1.2341e-01,  3.0731e-02,  ..., -8.3252e-02,\n",
       "          2.4887e-02,  1.9882e-02],\n",
       "        ...,\n",
       "        [ 8.6426e-02,  2.7046e-03, -4.4518e-03,  ..., -1.8738e-02,\n",
       "          2.8839e-02,  4.8431e-02],\n",
       "        [ 9.1064e-02,  6.3049e-02,  7.2327e-02,  ..., -1.2463e-01,\n",
       "          1.1230e-01,  2.4750e-02],\n",
       "        [-9.3460e-04, -2.8748e-02,  2.5269e-02,  ...,  3.5706e-02,\n",
       "         -1.1932e-01,  3.1067e-02]], dtype=torch.float16, requires_grad=True)"
      ]
     },
     "execution_count": 20,
     "metadata": {},
     "output_type": "execute_result"
    }
   ],
   "source": [
    "model.model.decoder.layers[0].self_attn.k_proj.weight"
   ]
  },
  {
   "cell_type": "code",
   "execution_count": 9,
   "metadata": {},
   "outputs": [],
   "source": [
    "import torch\n",
    "from torch.linalg import matrix_rank, svd"
   ]
  },
  {
   "cell_type": "code",
   "execution_count": 37,
   "metadata": {},
   "outputs": [
    {
     "data": {
      "text/plain": [
       "tensor([ 0.0788,  0.0009,  0.0065, -0.1289,  0.0651,  0.0264,  0.1558,  0.0141,\n",
       "        -0.1201,  0.0341], dtype=torch.float16, grad_fn=<SliceBackward0>)"
      ]
     },
     "execution_count": 37,
     "metadata": {},
     "output_type": "execute_result"
    }
   ],
   "source": [
    "h = 8192\n",
    "# W = torch.randn(h, h // 8)\n",
    "W = model.model.decoder.layers[0].self_attn.k_proj.weight\n",
    "W[0][:10]"
   ]
  },
  {
   "cell_type": "code",
   "execution_count": 58,
   "metadata": {},
   "outputs": [
    {
     "data": {
      "text/plain": [
       "tensor(768)"
      ]
     },
     "execution_count": 58,
     "metadata": {},
     "output_type": "execute_result"
    }
   ],
   "source": [
    "# _W = W.to(torch.float32) #\n",
    "_W = torch.cat((model.model.decoder.layers[0].self_attn.k_proj.weight, model.model.decoder.layers[0].self_attn.v_proj.weight), dim=1).to(torch.float32)\n",
    "matrix_rank(_W)"
   ]
  },
  {
   "cell_type": "code",
   "execution_count": 44,
   "metadata": {},
   "outputs": [
    {
     "data": {
      "text/plain": [
       "tensor(9.2697e-05, grad_fn=<DistBackward0>)"
      ]
     },
     "execution_count": 44,
     "metadata": {},
     "output_type": "execute_result"
    }
   ],
   "source": [
    "u, s, v = torch.svd(_W)\n",
    "\n",
    "rec = u @ torch.diag(s) @ v.mT\n",
    "_W[0][:10], rec[0][:10]\n",
    "torch.dist(rec, _W)\n"
   ]
  },
  {
   "cell_type": "code",
   "execution_count": 43,
   "metadata": {},
   "outputs": [
    {
     "data": {
      "image/png": "[encoded data removed]",
      "text/plain": [
       "<Figure size 640x480 with 1 Axes>"
      ]
     },
     "metadata": {},
     "output_type": "display_data"
    }
   ],
   "source": [
    "import matplotlib.pyplot as plt\n",
    "%matplotlib inline \n",
    "plt.plot(s.detach().numpy())\n",
    "plt.grid()"
   ]
  },
  {
   "cell_type": "code",
   "execution_count": 56,
   "metadata": {},
   "outputs": [
    {
     "name": "stdout",
     "output_type": "stream",
     "text": [
      "tensor([ 0.0788,  0.0009,  0.0065, -0.1289,  0.0651,  0.0264,  0.1558,  0.0141,\n",
      "        -0.1201,  0.0341], grad_fn=<SliceBackward0>) \n",
      " tensor([ 0.0788,  0.0009,  0.0066, -0.1289,  0.0651,  0.0264,  0.1557,  0.0140,\n",
      "        -0.1201,  0.0341], grad_fn=<SliceBackward0>)\n"
     ]
    },
    {
     "data": {
      "text/plain": [
       "tensor(0.0563, grad_fn=<DistBackward0>)"
      ]
     },
     "execution_count": 56,
     "metadata": {},
     "output_type": "execute_result"
    }
   ],
   "source": [
    "u, s, v = torch.svd(_W)\n",
    "s[-len(s)//20:] = 0\n",
    "\n",
    "rec = u @ torch.diag(s) @ v.mT\n",
    "print(_W[0][:10],'\\n', rec[0][:10])\n",
    "torch.dist(rec, _W)\n"
   ]
  }
 ],
 "metadata": {
  "kernelspec": {
   "display_name": "base",
   "language": "python",
   "name": "python3"
  },
  "language_info": {
   "codemirror_mode": {
    "name": "ipython",
    "version": 3
   },
   "file_extension": ".py",
   "mimetype": "text/x-python",
   "name": "python",
   "nbconvert_exporter": "python",
   "pygments_lexer": "ipython3",
   "version": "3.12.2"
  },
  "orig_nbformat": 4
 },
 "nbformat": 4,
 "nbformat_minor": 2
}
