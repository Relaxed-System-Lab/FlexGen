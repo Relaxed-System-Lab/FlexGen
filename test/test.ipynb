{
 "cells": [
  {
   "cell_type": "code",
   "execution_count": 1,
   "metadata": {},
   "outputs": [
    {
     "name": "stderr",
     "output_type": "stream",
     "text": [
      "/home/dingfangyu/miniconda3/lib/python3.12/site-packages/tqdm/auto.py:21: TqdmWarning: IProgress not found. Please update jupyter and ipywidgets. See https://ipywidgets.readthedocs.io/en/stable/user_install.html\n",
      "  from .autonotebook import tqdm as notebook_tqdm\n"
     ]
    }
   ],
   "source": [
    "import torch\n",
    "import torch.nn as nn\n",
    "from transformers import AutoModelForCausalLM, AutoTokenizer, AutoConfig, OPTForCausalLM, MistralForCausalLM\n",
    "from accelerate import init_empty_weights, infer_auto_device_map, load_checkpoint_and_dispatch\n",
    "from accelerate.hooks import remove_hook_from_module\n",
    "from accelerate.utils import named_module_tensors, find_tied_parameters\n",
    "\n",
    "\n",
    "import numpy as np\n",
    "from numpy.lib.format import open_memmap\n",
    "\n",
    "import os\n",
    "import sys\n",
    "import json\n",
    "\n",
    "from threading import Thread\n",
    "from queue import Queue \n",
    "\n",
    "import functools "
   ]
  },
  {
   "cell_type": "code",
   "execution_count": 2,
   "metadata": {},
   "outputs": [],
   "source": [
    "# checkpoint = 'facebook/opt-125m'\n",
    "checkpoint = 'mistralai/Mistral-7B-v0.1'"
   ]
  },
  {
   "cell_type": "code",
   "execution_count": 3,
   "metadata": {},
   "outputs": [
    {
     "name": "stderr",
     "output_type": "stream",
     "text": [
      "/home/dingfangyu/miniconda3/lib/python3.12/site-packages/huggingface_hub/file_download.py:1132: FutureWarning: `resume_download` is deprecated and will be removed in version 1.0.0. Downloads always resume when possible. If you want to force a new download, use `force_download=True`.\n",
      "  warnings.warn(\n"
     ]
    }
   ],
   "source": [
    "\"\"\"\n",
    "1. get model parameter & buffer names\n",
    "2. find the transformer block module\n",
    "3. get a device map\n",
    "4. get offloaded weights np.memmap files\n",
    "\"\"\"\n",
    "config = AutoConfig.from_pretrained(checkpoint)\n",
    "with init_empty_weights(): \n",
    "    e: OPTForCausalLM = AutoModelForCausalLM.from_config(config,)\n",
    "# don't run e.tie_weights() or the tied weights will not shown in the device map"
   ]
  },
  {
   "cell_type": "code",
   "execution_count": 4,
   "metadata": {},
   "outputs": [
    {
     "data": {
      "text/plain": [
       "'model.layers'"
      ]
     },
     "execution_count": 4,
     "metadata": {},
     "output_type": "execute_result"
    }
   ],
   "source": [
    "def find_module_list(module: nn.Module):\n",
    "    def _find_module_list(module: nn.Module, prefix=''):\n",
    "        if isinstance(module, nn.ModuleList):\n",
    "            yield module, prefix\n",
    "        else:\n",
    "            for name, child in module.named_children():\n",
    "                yield from _find_module_list(child, prefix=prefix+'.'+name if prefix else name)\n",
    "    \n",
    "    g = _find_module_list(module)\n",
    "    try:\n",
    "        return next(iter(g))\n",
    "    except:\n",
    "        raise ValueError(f'{module.__class__.__name__} does not have a nn.ModuleList structure')\n",
    "\n",
    "layers, layers_name = find_module_list(e)\n",
    "layers_name"
   ]
  },
  {
   "cell_type": "code",
   "execution_count": 5,
   "metadata": {},
   "outputs": [],
   "source": [
    "comp_device = 0\n",
    "res = {}\n",
    "for n, t in named_module_tensors(e, recurse=True):\n",
    "    if isinstance(t, nn.Parameter) and layers_name in n:\n",
    "        res[n] = 'disk'\n",
    "    else:\n",
    "        res[n] = comp_device\n",
    "# {(k, v) for k,v in res.items() if v != 'meta'}"
   ]
  },
  {
   "cell_type": "code",
   "execution_count": 6,
   "metadata": {},
   "outputs": [
    {
     "name": "stderr",
     "output_type": "stream",
     "text": [
      "Loading checkpoint shards: 100%|██████████| 2/2 [00:06<00:00,  3.19s/it]\n",
      "WARNING:root:Some parameters are on the meta device device because they were offloaded to the disk.\n"
     ]
    }
   ],
   "source": [
    "\n",
    "offload_folder = f'./_weights_offload/{checkpoint}'\n",
    "os.makedirs(offload_folder, exist_ok=True)  \n",
    "\n",
    "# all parameters of the model will be offloaded as memory-mapped array in a given folder.\n",
    "if not os.path.exists(offload_folder):\n",
    "    m = AutoModelForCausalLM.from_pretrained(checkpoint, device_map=res, offload_folder=offload_folder) \n",
    "else:\n",
    "    m = AutoModelForCausalLM.from_pretrained(checkpoint, device_map=res, offload_folder=None) \n",
    "# remove accelerate disk_offload hooks\n",
    "m = remove_hook_from_module(m, recurse=True) "
   ]
  },
  {
   "cell_type": "code",
   "execution_count": 7,
   "metadata": {},
   "outputs": [
    {
     "data": {
      "text/plain": [
       "MistralForCausalLM(\n",
       "  (model): MistralModel(\n",
       "    (embed_tokens): Embedding(32000, 4096)\n",
       "    (layers): ModuleList(\n",
       "      (0-31): 32 x MistralDecoderLayer(\n",
       "        (self_attn): MistralSdpaAttention(\n",
       "          (q_proj): Linear(in_features=4096, out_features=4096, bias=False)\n",
       "          (k_proj): Linear(in_features=4096, out_features=1024, bias=False)\n",
       "          (v_proj): Linear(in_features=4096, out_features=1024, bias=False)\n",
       "          (o_proj): Linear(in_features=4096, out_features=4096, bias=False)\n",
       "          (rotary_emb): MistralRotaryEmbedding()\n",
       "        )\n",
       "        (mlp): MistralMLP(\n",
       "          (gate_proj): Linear(in_features=4096, out_features=14336, bias=False)\n",
       "          (up_proj): Linear(in_features=4096, out_features=14336, bias=False)\n",
       "          (down_proj): Linear(in_features=14336, out_features=4096, bias=False)\n",
       "          (act_fn): SiLU()\n",
       "        )\n",
       "        (input_layernorm): MistralRMSNorm()\n",
       "        (post_attention_layernorm): MistralRMSNorm()\n",
       "      )\n",
       "    )\n",
       "    (norm): MistralRMSNorm()\n",
       "  )\n",
       "  (lm_head): Linear(in_features=4096, out_features=32000, bias=False)\n",
       ")"
      ]
     },
     "execution_count": 7,
     "metadata": {},
     "output_type": "execute_result"
    }
   ],
   "source": [
    "m"
   ]
  },
  {
   "cell_type": "code",
   "execution_count": 16,
   "metadata": {},
   "outputs": [
    {
     "ename": "FileNotFoundError",
     "evalue": "[Errno 2] No such file or directory: './_offload/mistralai/Mistral-7B-v0.1/index.json'",
     "output_type": "error",
     "traceback": [
      "\u001b[0;31m---------------------------------------------------------------------------\u001b[0m",
      "\u001b[0;31mFileNotFoundError\u001b[0m                         Traceback (most recent call last)",
      "Cell \u001b[0;32mIn[16], line 1\u001b[0m\n\u001b[0;32m----> 1\u001b[0m \u001b[39mwith\u001b[39;00m \u001b[39mopen\u001b[39;49m(os\u001b[39m.\u001b[39;49mpath\u001b[39m.\u001b[39;49mjoin(offload_folder, \u001b[39m\"\u001b[39;49m\u001b[39mindex.json\u001b[39;49m\u001b[39m\"\u001b[39;49m), \u001b[39m\"\u001b[39;49m\u001b[39mr\u001b[39;49m\u001b[39m\"\u001b[39;49m) \u001b[39mas\u001b[39;00m f: \n\u001b[1;32m      2\u001b[0m     index \u001b[39m=\u001b[39m json\u001b[39m.\u001b[39mload(f) \n",
      "File \u001b[0;32m~/miniconda3/lib/python3.12/site-packages/IPython/core/interactiveshell.py:324\u001b[0m, in \u001b[0;36m_modified_open\u001b[0;34m(file, *args, **kwargs)\u001b[0m\n\u001b[1;32m    317\u001b[0m \u001b[39mif\u001b[39;00m file \u001b[39min\u001b[39;00m {\u001b[39m0\u001b[39m, \u001b[39m1\u001b[39m, \u001b[39m2\u001b[39m}:\n\u001b[1;32m    318\u001b[0m     \u001b[39mraise\u001b[39;00m \u001b[39mValueError\u001b[39;00m(\n\u001b[1;32m    319\u001b[0m         \u001b[39mf\u001b[39m\u001b[39m\"\u001b[39m\u001b[39mIPython won\u001b[39m\u001b[39m'\u001b[39m\u001b[39mt let you open fd=\u001b[39m\u001b[39m{\u001b[39;00mfile\u001b[39m}\u001b[39;00m\u001b[39m by default \u001b[39m\u001b[39m\"\u001b[39m\n\u001b[1;32m    320\u001b[0m         \u001b[39m\"\u001b[39m\u001b[39mas it is likely to crash IPython. If you know what you are doing, \u001b[39m\u001b[39m\"\u001b[39m\n\u001b[1;32m    321\u001b[0m         \u001b[39m\"\u001b[39m\u001b[39myou can use builtins\u001b[39m\u001b[39m'\u001b[39m\u001b[39m open.\u001b[39m\u001b[39m\"\u001b[39m\n\u001b[1;32m    322\u001b[0m     )\n\u001b[0;32m--> 324\u001b[0m \u001b[39mreturn\u001b[39;00m io_open(file, \u001b[39m*\u001b[39;49margs, \u001b[39m*\u001b[39;49m\u001b[39m*\u001b[39;49mkwargs)\n",
      "\u001b[0;31mFileNotFoundError\u001b[0m: [Errno 2] No such file or directory: './_offload/mistralai/Mistral-7B-v0.1/index.json'"
     ]
    }
   ],
   "source": [
    "with open(os.path.join(offload_folder, \"index.json\"), \"r\") as f: \n",
    "    index = json.load(f) "
   ]
  },
  {
   "cell_type": "code",
   "execution_count": 6,
   "metadata": {},
   "outputs": [
    {
     "data": {
      "text/plain": [
       "Parameter containing:\n",
       "tensor([[-2.5940e-03,  8.8882e-04, -2.3499e-03,  ..., -2.7466e-04,\n",
       "          4.1199e-03,  1.8616e-03],\n",
       "        [-2.5635e-03,  1.4267e-03, -2.3956e-03,  ...,  5.3406e-04,\n",
       "          5.9509e-03,  2.0447e-03],\n",
       "        [ 3.4180e-03,  4.6997e-03,  2.7466e-03,  ..., -3.1281e-03,\n",
       "         -3.4180e-03,  2.2278e-03],\n",
       "        ...,\n",
       "        [-3.7537e-03,  1.3504e-03, -4.8218e-03,  ...,  1.9684e-03,\n",
       "          2.3651e-03, -1.9379e-03],\n",
       "        [ 8.6427e-06, -4.0588e-03, -6.3171e-03,  ..., -1.8616e-03,\n",
       "          3.8300e-03,  3.0365e-03],\n",
       "        [ 2.7466e-03, -4.3945e-03,  3.6011e-03,  ..., -6.5613e-03,\n",
       "          1.9455e-03, -7.8201e-05]], device='cuda:0', requires_grad=True)"
      ]
     },
     "execution_count": 6,
     "metadata": {},
     "output_type": "execute_result"
    }
   ],
   "source": [
    "m.lm_head.weight"
   ]
  },
  {
   "cell_type": "code",
   "execution_count": 7,
   "metadata": {},
   "outputs": [
    {
     "ename": "AttributeError",
     "evalue": "'MistralModel' object has no attribute 'decoder'",
     "output_type": "error",
     "traceback": [
      "\u001b[0;31m---------------------------------------------------------------------------\u001b[0m",
      "\u001b[0;31mAttributeError\u001b[0m                            Traceback (most recent call last)",
      "Cell \u001b[0;32mIn[7], line 1\u001b[0m\n\u001b[0;32m----> 1\u001b[0m m\u001b[39m.\u001b[39;49mmodel\u001b[39m.\u001b[39;49mdecoder\u001b[39m.\u001b[39mlayers[\u001b[39m0\u001b[39m]\u001b[39m.\u001b[39mfc1\u001b[39m.\u001b[39mweight, \u001b[39mtype\u001b[39m(m\u001b[39m.\u001b[39mmodel\u001b[39m.\u001b[39mdecoder\u001b[39m.\u001b[39mlayers[\u001b[39m0\u001b[39m]\u001b[39m.\u001b[39mfc1\u001b[39m.\u001b[39mweight)\n",
      "File \u001b[0;32m~/miniconda3/lib/python3.12/site-packages/torch/nn/modules/module.py:1709\u001b[0m, in \u001b[0;36mModule.__getattr__\u001b[0;34m(self, name)\u001b[0m\n\u001b[1;32m   1707\u001b[0m     \u001b[39mif\u001b[39;00m name \u001b[39min\u001b[39;00m modules:\n\u001b[1;32m   1708\u001b[0m         \u001b[39mreturn\u001b[39;00m modules[name]\n\u001b[0;32m-> 1709\u001b[0m \u001b[39mraise\u001b[39;00m \u001b[39mAttributeError\u001b[39;00m(\u001b[39mf\u001b[39m\u001b[39m\"\u001b[39m\u001b[39m'\u001b[39m\u001b[39m{\u001b[39;00m\u001b[39mtype\u001b[39m(\u001b[39mself\u001b[39m)\u001b[39m.\u001b[39m\u001b[39m__name__\u001b[39m\u001b[39m}\u001b[39;00m\u001b[39m'\u001b[39m\u001b[39m object has no attribute \u001b[39m\u001b[39m'\u001b[39m\u001b[39m{\u001b[39;00mname\u001b[39m}\u001b[39;00m\u001b[39m'\u001b[39m\u001b[39m\"\u001b[39m)\n",
      "\u001b[0;31mAttributeError\u001b[0m: 'MistralModel' object has no attribute 'decoder'"
     ]
    }
   ],
   "source": [
    "m.model.decoder.layers[0].fc1.weight, type(m.model.decoder.layers[0].fc1.weight)"
   ]
  },
  {
   "cell_type": "code",
   "execution_count": null,
   "metadata": {},
   "outputs": [],
   "source": [
    "torch.cuda.memory_allocated(0)"
   ]
  },
  {
   "cell_type": "code",
   "execution_count": null,
   "metadata": {},
   "outputs": [],
   "source": [
    "running_buffer = torch.ones((3072, 768), device=0)"
   ]
  },
  {
   "cell_type": "code",
   "execution_count": null,
   "metadata": {},
   "outputs": [],
   "source": [
    "torch.cuda.memory_allocated(0)"
   ]
  },
  {
   "cell_type": "code",
   "execution_count": null,
   "metadata": {},
   "outputs": [],
   "source": [
    "setattr(m.model.decoder.layers[0].fc1, 'weight', nn.Parameter(running_buffer))"
   ]
  },
  {
   "cell_type": "code",
   "execution_count": null,
   "metadata": {},
   "outputs": [],
   "source": [
    "torch.cuda.memory_allocated(0)"
   ]
  },
  {
   "cell_type": "code",
   "execution_count": null,
   "metadata": {},
   "outputs": [],
   "source": [
    "m.model.decoder.layers[0].fc1.weight"
   ]
  },
  {
   "cell_type": "code",
   "execution_count": null,
   "metadata": {},
   "outputs": [],
   "source": [
    "running_buffer *= 2"
   ]
  },
  {
   "cell_type": "code",
   "execution_count": null,
   "metadata": {},
   "outputs": [],
   "source": [
    "m.model.decoder.layers[0].fc1.weight"
   ]
  },
  {
   "cell_type": "code",
   "execution_count": null,
   "metadata": {},
   "outputs": [],
   "source": [
    "setattr(m.model.decoder.layers[0].fc1, 'weight', nn.Parameter(running_buffer.to('meta')))"
   ]
  },
  {
   "cell_type": "code",
   "execution_count": null,
   "metadata": {},
   "outputs": [],
   "source": [
    "type(m.model.decoder.layers[0].fc1) # Module.__setattr__"
   ]
  },
  {
   "cell_type": "code",
   "execution_count": null,
   "metadata": {},
   "outputs": [],
   "source": [
    "m.model.decoder.layers[0].fc1.weight"
   ]
  },
  {
   "cell_type": "code",
   "execution_count": null,
   "metadata": {},
   "outputs": [],
   "source": [
    "m.model.decoder.layers[0].fc1.__dict__.get('_parameters')"
   ]
  },
  {
   "cell_type": "code",
   "execution_count": null,
   "metadata": {},
   "outputs": [],
   "source": [
    "m.model.decoder.layers[0].__dict__.get('_parameters')"
   ]
  },
  {
   "cell_type": "code",
   "execution_count": null,
   "metadata": {},
   "outputs": [],
   "source": [
    "m._modules.keys()"
   ]
  },
  {
   "cell_type": "code",
   "execution_count": null,
   "metadata": {},
   "outputs": [],
   "source": [
    "torch.cuda.memory_allocated(0)"
   ]
  },
  {
   "cell_type": "code",
   "execution_count": null,
   "metadata": {},
   "outputs": [],
   "source": [
    "checkpoint = 'mistralai/Mistral-7B-v0.1'\n",
    "mis = AutoModelForCausalLM.from_pretrained(checkpoint, device_map={'': \"meta\"})\n",
    "print(mis)\n",
    "print(set(t.device for n, t in named_module_tensors(mis, recurse=True)))\n",
    "print(list(n for n, t in named_module_tensors(mis, recurse=True)))"
   ]
  },
  {
   "cell_type": "code",
   "execution_count": null,
   "metadata": {},
   "outputs": [],
   "source": [
    "def find_module_list(module: nn.Module):\n",
    "    def _find_module_list(module: nn.Module, prefix=''):\n",
    "        if isinstance(module, nn.ModuleList):\n",
    "            yield module, prefix\n",
    "        else:\n",
    "            for name, child in module.named_children():\n",
    "                yield from _find_module_list(child, prefix=prefix+'.'+name if prefix else name)\n",
    "    \n",
    "    g = _find_module_list(module)\n",
    "    try:\n",
    "        return next(iter(g))\n",
    "    except:\n",
    "        raise ValueError(f'{module.__class__.__name__} does not have a nn.ModuleList structure')\n",
    "\n",
    "find_module_list(mis), find_module_list(e)"
   ]
  },
  {
   "cell_type": "code",
   "execution_count": null,
   "metadata": {},
   "outputs": [],
   "source": []
  },
  {
   "cell_type": "code",
   "execution_count": null,
   "metadata": {},
   "outputs": [],
   "source": [
    "\n",
    "import torch\n",
    "from accelerate.utils import honor_type\n",
    "from typing import Mapping\n",
    "\n",
    "def get_info(obj, debug=False):\n",
    "    if isinstance(obj, (tuple, list)):\n",
    "        ret = honor_type(obj, (get_info(o) for o in obj))\n",
    "        if len(set(ret)) == 1 and len(ret) > 1:\n",
    "            return f\"{len(ret)} * {ret[0]}\"\n",
    "        else:\n",
    "            return ret \n",
    "    elif isinstance(obj, Mapping):\n",
    "        return type(obj)({k: get_info(v) for k, v in obj.items()})\n",
    "    elif isinstance(obj, (torch.Tensor)):\n",
    "        if debug:\n",
    "            return f\"{obj.__class__.__name__}(shape={tuple(obj.size())}, dtype={obj.dtype}, device={obj.device}, mem/elem/dtype={sys.getsizeof(obj.storage()) / obj.numel() / obj.element_size():.3f})\"\n",
    "        else:\n",
    "            return f\"{obj.__class__.__name__}(shape={tuple(obj.size())}, mem/elem/dtype={sys.getsizeof(obj.storage()) / obj.numel() / obj.element_size():.3f})\"\n",
    "    elif isinstance(obj, (int, bool, type(None))):\n",
    "        return f\"{obj}\"\n",
    "    else:\n",
    "        return f\"{obj.__class__.__name__}: {obj}\"\n",
    "\n",
    "from data_movement import Engine, Task\n",
    "\n",
    "class Model:\n",
    "    \"\"\"\n",
    "    1. override forward functions\n",
    "    \"\"\"\n",
    "    def __init__(self, hf_model, comp_device=0, **kwargs) -> None:\n",
    "        self.checkpoint = kwargs.get('checkpoint')\n",
    "        self.torch_dtype = kwargs.get('torch_dtype')\n",
    "        self.config = AutoConfig.from_pretrained(self.checkpoint, torch_dtype=self.torch_dtype)\n",
    "        with init_empty_weights(): # while buffers are not empty\n",
    "            self.hf_model = AutoModelForCausalLM.from_config(self.config, torch_dtype=self.torch_dtype)\n",
    "        self.layers, self.layers_name = self.get_layers()\n",
    "        \n",
    "        self.comp_device = comp_device\n",
    "\n",
    "        self.dm_engine = Engine(self.comp_device)\n",
    "\n",
    "        # init model \n",
    "        self.hf_model = hf_model.to(comp_device)\n",
    "\n",
    "\n",
    "    def get_layers(self) -> tuple[nn.Module, str]:\n",
    "        if isinstance(self.hf_model, (OPTForCausalLM, )):\n",
    "            return self.hf_model.model.decoder.layers, 'model.decoder.layers'\n",
    "        else:\n",
    "            def find_module_list(module: nn.Module) -> tuple[nn.Module, str]:\n",
    "                def _find_module_list(module: nn.Module, prefix=''):\n",
    "                    if isinstance(module, nn.ModuleList):\n",
    "                        yield module, prefix\n",
    "                    else:\n",
    "                        for name, child in module.named_children():\n",
    "                            yield from _find_module_list(child, prefix=prefix+'.'+name if prefix else name)\n",
    "                \n",
    "                g = _find_module_list(module)\n",
    "                try:\n",
    "                    return next(iter(g))\n",
    "                except:\n",
    "                    raise ValueError(f'{module.__class__.__name__} does not have a nn.ModuleList structure')\n",
    "\n",
    "            return find_module_list(self.hf_model)\n",
    "    \n",
    "    def override_layer_forward(self, i: int):\n",
    "        layer = self.layers[i]\n",
    "        old_forward = layer.forward\n",
    "\n",
    "        @functools.wraps(old_forward)\n",
    "        def new_forward(*args, **kwargs):\n",
    "            print(f'\\t{i = }, {get_info(args) = }, \\n\\t{i = }, {get_info(kwargs) = }')\n",
    "\n",
    "            if isinstance(self.hf_model, (OPTForCausalLM, )):\n",
    "                actv_recomp = args[0] # b,1,h / bzh\n",
    "                kv_cache = kwargs.get('past_key_value') # b,n_kv_heads,s_cache,h_kv    x2\n",
    "                attn_mask = kwargs.get('attention_mask') # b,1,1,s_all  (bsz, 1, tgt_len, src_len)\n",
    "\n",
    "            # new to hf: args, kwargs\n",
    "            args_for_old = args\n",
    "            kwargs_for_old = kwargs\n",
    "\n",
    "            # hf execution\n",
    "            old_output = old_forward(*args_for_old, **kwargs_for_old) # h'=(b,z,h), kv=(b,n,s_all,h) x2\n",
    "            \n",
    "            # hf to new: output\n",
    "            output = old_output\n",
    "            print(f'\\t{i = }, {get_info(output) = }\\n')\n",
    "            \n",
    "            return output\n",
    "        \n",
    "        layer.forward = new_forward\n",
    "        return layer\n",
    "\n",
    "    def override_hf_model_forward(self):\n",
    "        old_forward = self.hf_model.forward\n",
    "        @functools.wraps(old_forward)\n",
    "        def new_forward(*args, **kwargs):\n",
    "            print(f'hf_model {get_info(args) = }, \\nhf_model {get_info(kwargs) = }\\n')\n",
    "\n",
    "            # new to hf: args, kwargs\n",
    "            args_for_old = args\n",
    "            kwargs_for_old = kwargs\n",
    "\n",
    "            # hf execution\n",
    "            old_output = old_forward(*args_for_old, **kwargs_for_old) \n",
    "\n",
    "            # hf to new: output\n",
    "            output = old_output \n",
    "            print(f'hf_model {get_info(output) = }\\n')\n",
    "            \n",
    "            return output\n",
    "        \n",
    "        self.hf_model.forward = new_forward\n",
    "        return self.hf_model\n",
    "\n",
    "    def build(self):\n",
    "        for i, _ in enumerate(self.layers):\n",
    "            self.override_layer_forward(i)\n",
    "        self.override_hf_model_forward()\n",
    "        return self.hf_model \n",
    "\n"
   ]
  },
  {
   "cell_type": "code",
   "execution_count": null,
   "metadata": {},
   "outputs": [],
   "source": [
    "num_prompts = 16\n",
    "prompts = None\n",
    "checkpoint = 'facebook/opt-125m'\n",
    "prompt_len = 50\n",
    "comp_device = 0\n",
    "gen_len = 20\n",
    "\n",
    "\n",
    "hf_model= OPTForCausalLM.from_pretrained(checkpoint)\n",
    "model = Model(hf_model, comp_device=comp_device).build()\n",
    "model = model.to(comp_device) # \n",
    "\n",
    "# test\n",
    "if True:\n",
    "    if prompts is None:  # get default prompts\n",
    "        prompts = [\n",
    "            \"for i in range(10): \",\n",
    "            \"Who are you? Are you conscious?\",\n",
    "            \"Where is Deutschland?\",\n",
    "            \"How is Huawei Mate 60 Pro?\",\n",
    "        ]\n",
    "    prompts = (\n",
    "        prompts * (num_prompts // len(prompts))\n",
    "        + prompts[: (num_prompts % len(prompts))]\n",
    "    )\n",
    "\n",
    "    # tokenizer\n",
    "    tokenizer = AutoTokenizer.from_pretrained(checkpoint) # , padding_side=\"left\"\n",
    "    if tokenizer.pad_token is None:\n",
    "        tokenizer.pad_token = tokenizer.eos_token  # eos padding\n",
    "\n",
    "    # inputs\n",
    "    inputs = tokenizer(\n",
    "        prompts,\n",
    "        padding=\"max_length\",\n",
    "        max_length=prompt_len,\n",
    "        return_tensors=\"pt\",\n",
    "        # padding=True,\n",
    "    ).to(comp_device)\n",
    "\n",
    "    # generate\n",
    "    generate_ids = model.generate(\n",
    "        inputs.input_ids,\n",
    "        max_new_tokens=gen_len,  # max_lengths\n",
    "        \n",
    "        num_beams=6, #\n",
    "        num_beam_groups=2, #\n",
    "        diversity_penalty=0.1, #\n",
    "        # do_sample=True, #\n",
    "    )\n",
    "\n",
    "    # outputs\n",
    "    output_texts = tokenizer.batch_decode(\n",
    "        generate_ids, skip_special_tokens=True, clean_up_tokenization_spaces=False\n",
    "    )\n",
    "    print(output_texts)"
   ]
  }
 ],
 "metadata": {
  "kernelspec": {
   "display_name": "base",
   "language": "python",
   "name": "python3"
  },
  "language_info": {
   "codemirror_mode": {
    "name": "ipython",
    "version": 3
   },
   "file_extension": ".py",
   "mimetype": "text/x-python",
   "name": "python",
   "nbconvert_exporter": "python",
   "pygments_lexer": "ipython3",
   "version": "3.12.2"
  },
  "orig_nbformat": 4
 },
 "nbformat": 4,
 "nbformat_minor": 2
}
