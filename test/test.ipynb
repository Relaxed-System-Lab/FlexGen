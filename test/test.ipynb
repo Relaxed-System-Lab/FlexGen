{
 "cells": [
  {
   "cell_type": "code",
   "execution_count": 1,
   "metadata": {},
   "outputs": [
    {
     "name": "stderr",
     "output_type": "stream",
     "text": [
      "/home/dingfangyu/miniconda3/lib/python3.12/site-packages/tqdm/auto.py:21: TqdmWarning: IProgress not found. Please update jupyter and ipywidgets. See https://ipywidgets.readthedocs.io/en/stable/user_install.html\n",
      "  from .autonotebook import tqdm as notebook_tqdm\n"
     ]
    }
   ],
   "source": [
    "import torch\n",
    "import torch.nn as nn\n",
    "from transformers import AutoModelForCausalLM, AutoTokenizer, AutoConfig, OPTForCausalLM, MistralForCausalLM\n",
    "from accelerate import init_empty_weights, infer_auto_device_map, load_checkpoint_and_dispatch\n",
    "from accelerate.utils import named_module_tensors, find_tied_parameters\n",
    "\n",
    "import numpy as np\n",
    "from numpy.lib.format import open_memmap\n",
    "\n",
    "import sys\n",
    "from threading import Thread\n",
    "from queue import Queue \n",
    "\n",
    "import functools "
   ]
  },
  {
   "cell_type": "code",
   "execution_count": 2,
   "metadata": {},
   "outputs": [
    {
     "name": "stderr",
     "output_type": "stream",
     "text": [
      "/home/dingfangyu/miniconda3/lib/python3.12/site-packages/huggingface_hub/file_download.py:1132: FutureWarning: `resume_download` is deprecated and will be removed in version 1.0.0. Downloads always resume when possible. If you want to force a new download, use `force_download=True`.\n",
      "  warnings.warn(\n"
     ]
    },
    {
     "data": {
      "text/plain": [
       "[['lm_head.weight', 'model.decoder.embed_tokens.weight']]"
      ]
     },
     "execution_count": 2,
     "metadata": {},
     "output_type": "execute_result"
    }
   ],
   "source": [
    "checkpoint = 'facebook/opt-125m'\n",
    "config = AutoConfig.from_pretrained(checkpoint)\n",
    "with init_empty_weights(): \n",
    "    e: OPTForCausalLM = AutoModelForCausalLM.from_config(config,)\n",
    "e.tie_weights()\n",
    "find_tied_parameters(e)"
   ]
  },
  {
   "cell_type": "code",
   "execution_count": 3,
   "metadata": {},
   "outputs": [],
   "source": [
    "comp_device = 0\n",
    "res = {}\n",
    "for n, t in named_module_tensors(e, recurse=True):\n",
    "    if isinstance(t, nn.Parameter) and 'model.decoder.layers' in n:\n",
    "        res[n] = 'meta'\n",
    "    else:\n",
    "        res[n] = comp_device\n",
    "res['lm_head'] = 0\n",
    "# res"
   ]
  },
  {
   "cell_type": "code",
   "execution_count": 4,
   "metadata": {},
   "outputs": [],
   "source": [
    "m = AutoModelForCausalLM.from_pretrained(checkpoint, device_map=res, offload_folder='./_offload')"
   ]
  },
  {
   "cell_type": "code",
   "execution_count": 5,
   "metadata": {},
   "outputs": [
    {
     "data": {
      "text/plain": [
       "Parameter containing:\n",
       "tensor([[ 0.1150, -0.1438,  0.0555,  ...,  0.2146,  0.0833,  0.0669],\n",
       "        [ 0.1149, -0.1438,  0.0547,  ...,  0.2145,  0.0833,  0.0669],\n",
       "        [ 0.0010, -0.0922,  0.1025,  ..., -0.0402,  0.0060, -0.1078],\n",
       "        ...,\n",
       "        [ 0.1152, -0.1437,  0.0547,  ...,  0.2145,  0.0833,  0.0671],\n",
       "        [ 0.1151, -0.1455,  0.0546,  ...,  0.2156,  0.0837,  0.0673],\n",
       "        [ 0.1156, -0.1437,  0.0577,  ...,  0.2139,  0.0833,  0.0650]],\n",
       "       device='cuda:0', requires_grad=True)"
      ]
     },
     "execution_count": 5,
     "metadata": {},
     "output_type": "execute_result"
    }
   ],
   "source": [
    "m.lm_head.weight"
   ]
  },
  {
   "cell_type": "code",
   "execution_count": 8,
   "metadata": {},
   "outputs": [
    {
     "data": {
      "text/plain": [
       "(Parameter containing:\n",
       " tensor(..., device='meta', size=(3072, 768), requires_grad=True),\n",
       " torch.nn.parameter.Parameter)"
      ]
     },
     "execution_count": 8,
     "metadata": {},
     "output_type": "execute_result"
    }
   ],
   "source": [
    "m.model.decoder.layers[0].fc1.weight, type(m.model.decoder.layers[0].fc1.weight)"
   ]
  },
  {
   "cell_type": "code",
   "execution_count": 7,
   "metadata": {},
   "outputs": [
    {
     "data": {
      "text/plain": [
       "161492992"
      ]
     },
     "execution_count": 7,
     "metadata": {},
     "output_type": "execute_result"
    }
   ],
   "source": [
    "torch.cuda.memory_allocated(0)"
   ]
  },
  {
   "cell_type": "code",
   "execution_count": 10,
   "metadata": {},
   "outputs": [],
   "source": [
    "running_buffer = torch.ones((3072, 768), device=0)"
   ]
  },
  {
   "cell_type": "code",
   "execution_count": 11,
   "metadata": {},
   "outputs": [
    {
     "data": {
      "text/plain": [
       "170930176"
      ]
     },
     "execution_count": 11,
     "metadata": {},
     "output_type": "execute_result"
    }
   ],
   "source": [
    "torch.cuda.memory_allocated(0)"
   ]
  },
  {
   "cell_type": "code",
   "execution_count": 14,
   "metadata": {},
   "outputs": [],
   "source": [
    "setattr(m.model.decoder.layers[0].fc1, 'weight', nn.Parameter(running_buffer))"
   ]
  },
  {
   "cell_type": "code",
   "execution_count": 15,
   "metadata": {},
   "outputs": [
    {
     "data": {
      "text/plain": [
       "170930176"
      ]
     },
     "execution_count": 15,
     "metadata": {},
     "output_type": "execute_result"
    }
   ],
   "source": [
    "torch.cuda.memory_allocated(0)"
   ]
  },
  {
   "cell_type": "code",
   "execution_count": 16,
   "metadata": {},
   "outputs": [
    {
     "data": {
      "text/plain": [
       "Parameter containing:\n",
       "tensor([[1., 1., 1.,  ..., 1., 1., 1.],\n",
       "        [1., 1., 1.,  ..., 1., 1., 1.],\n",
       "        [1., 1., 1.,  ..., 1., 1., 1.],\n",
       "        ...,\n",
       "        [1., 1., 1.,  ..., 1., 1., 1.],\n",
       "        [1., 1., 1.,  ..., 1., 1., 1.],\n",
       "        [1., 1., 1.,  ..., 1., 1., 1.]], device='cuda:0', requires_grad=True)"
      ]
     },
     "execution_count": 16,
     "metadata": {},
     "output_type": "execute_result"
    }
   ],
   "source": [
    "m.model.decoder.layers[0].fc1.weight"
   ]
  },
  {
   "cell_type": "code",
   "execution_count": 17,
   "metadata": {},
   "outputs": [],
   "source": [
    "running_buffer *= 2"
   ]
  },
  {
   "cell_type": "code",
   "execution_count": 18,
   "metadata": {},
   "outputs": [
    {
     "data": {
      "text/plain": [
       "Parameter containing:\n",
       "tensor([[2., 2., 2.,  ..., 2., 2., 2.],\n",
       "        [2., 2., 2.,  ..., 2., 2., 2.],\n",
       "        [2., 2., 2.,  ..., 2., 2., 2.],\n",
       "        ...,\n",
       "        [2., 2., 2.,  ..., 2., 2., 2.],\n",
       "        [2., 2., 2.,  ..., 2., 2., 2.],\n",
       "        [2., 2., 2.,  ..., 2., 2., 2.]], device='cuda:0', requires_grad=True)"
      ]
     },
     "execution_count": 18,
     "metadata": {},
     "output_type": "execute_result"
    }
   ],
   "source": [
    "m.model.decoder.layers[0].fc1.weight"
   ]
  },
  {
   "cell_type": "code",
   "execution_count": 19,
   "metadata": {},
   "outputs": [],
   "source": [
    "setattr(m.model.decoder.layers[0].fc1, 'weight', nn.Parameter(running_buffer.to('meta')))"
   ]
  },
  {
   "cell_type": "code",
   "execution_count": 22,
   "metadata": {},
   "outputs": [
    {
     "data": {
      "text/plain": [
       "torch.nn.modules.linear.Linear"
      ]
     },
     "execution_count": 22,
     "metadata": {},
     "output_type": "execute_result"
    }
   ],
   "source": [
    "type(m.model.decoder.layers[0].fc1) # Module.__setattr__"
   ]
  },
  {
   "cell_type": "code",
   "execution_count": 20,
   "metadata": {},
   "outputs": [
    {
     "data": {
      "text/plain": [
       "Parameter containing:\n",
       "tensor(..., device='meta', size=(3072, 768), requires_grad=True)"
      ]
     },
     "execution_count": 20,
     "metadata": {},
     "output_type": "execute_result"
    }
   ],
   "source": [
    "m.model.decoder.layers[0].fc1.weight"
   ]
  },
  {
   "cell_type": "code",
   "execution_count": 27,
   "metadata": {},
   "outputs": [
    {
     "data": {
      "text/plain": [
       "OrderedDict([('weight',\n",
       "              Parameter containing:\n",
       "              tensor(..., device='meta', size=(3072, 768), requires_grad=True)),\n",
       "             ('bias',\n",
       "              Parameter containing:\n",
       "              tensor(..., device='meta', size=(3072,), requires_grad=True))])"
      ]
     },
     "execution_count": 27,
     "metadata": {},
     "output_type": "execute_result"
    }
   ],
   "source": [
    "m.model.decoder.layers[0].fc1.__dict__.get('_parameters')"
   ]
  },
  {
   "cell_type": "code",
   "execution_count": 28,
   "metadata": {},
   "outputs": [
    {
     "data": {
      "text/plain": [
       "OrderedDict()"
      ]
     },
     "execution_count": 28,
     "metadata": {},
     "output_type": "execute_result"
    }
   ],
   "source": [
    "m.model.decoder.layers[0].__dict__.get('_parameters')"
   ]
  },
  {
   "cell_type": "code",
   "execution_count": 21,
   "metadata": {},
   "outputs": [
    {
     "data": {
      "text/plain": [
       "170930176"
      ]
     },
     "execution_count": 21,
     "metadata": {},
     "output_type": "execute_result"
    }
   ],
   "source": [
    "torch.cuda.memory_allocated(0)"
   ]
  },
  {
   "cell_type": "code",
   "execution_count": null,
   "metadata": {},
   "outputs": [],
   "source": [
    "checkpoint = 'mistralai/Mistral-7B-v0.1'\n",
    "mis = AutoModelForCausalLM.from_pretrained(checkpoint, device_map={'': \"meta\"})\n",
    "print(mis)\n",
    "print(set(t.device for n, t in named_module_tensors(mis, recurse=True)))\n",
    "print(list(n for n, t in named_module_tensors(mis, recurse=True)))"
   ]
  },
  {
   "cell_type": "code",
   "execution_count": null,
   "metadata": {},
   "outputs": [],
   "source": [
    "def find_module_list(module: nn.Module):\n",
    "    def _find_module_list(module: nn.Module, prefix=''):\n",
    "        if isinstance(module, nn.ModuleList):\n",
    "            yield module, prefix\n",
    "        else:\n",
    "            for name, child in module.named_children():\n",
    "                yield from _find_module_list(child, prefix=prefix+'.'+name if prefix else name)\n",
    "    \n",
    "    g = _find_module_list(module)\n",
    "    try:\n",
    "        return next(iter(g))\n",
    "    except:\n",
    "        raise ValueError(f'{module.__class__.__name__} does not have a nn.ModuleList structure')\n",
    "\n",
    "find_module_list(mis), find_module_list(e)"
   ]
  },
  {
   "cell_type": "code",
   "execution_count": null,
   "metadata": {},
   "outputs": [],
   "source": []
  },
  {
   "cell_type": "code",
   "execution_count": null,
   "metadata": {},
   "outputs": [],
   "source": [
    "\n",
    "import torch\n",
    "from accelerate.utils import honor_type\n",
    "from typing import Mapping\n",
    "\n",
    "def get_info(obj, debug=False):\n",
    "    if isinstance(obj, (tuple, list)):\n",
    "        ret = honor_type(obj, (get_info(o) for o in obj))\n",
    "        if len(set(ret)) == 1 and len(ret) > 1:\n",
    "            return f\"{len(ret)} * {ret[0]}\"\n",
    "        else:\n",
    "            return ret \n",
    "    elif isinstance(obj, Mapping):\n",
    "        return type(obj)({k: get_info(v) for k, v in obj.items()})\n",
    "    elif isinstance(obj, (torch.Tensor)):\n",
    "        if debug:\n",
    "            return f\"{obj.__class__.__name__}(shape={tuple(obj.size())}, dtype={obj.dtype}, device={obj.device}, mem/elem/dtype={sys.getsizeof(obj.storage()) / obj.numel() / obj.element_size():.3f})\"\n",
    "        else:\n",
    "            return f\"{obj.__class__.__name__}(shape={tuple(obj.size())}, mem/elem/dtype={sys.getsizeof(obj.storage()) / obj.numel() / obj.element_size():.3f})\"\n",
    "    elif isinstance(obj, (int, bool, type(None))):\n",
    "        return f\"{obj}\"\n",
    "    else:\n",
    "        return f\"{obj.__class__.__name__}: {obj}\"\n",
    "\n",
    "from data_movement import Engine, Task\n",
    "\n",
    "class Model:\n",
    "    \"\"\"\n",
    "    1. override forward functions\n",
    "    \"\"\"\n",
    "    def __init__(self, hf_model, comp_device=0, **kwargs) -> None:\n",
    "        self.checkpoint = kwargs.get('checkpoint')\n",
    "        self.torch_dtype = kwargs.get('torch_dtype')\n",
    "        self.config = AutoConfig.from_pretrained(self.checkpoint, torch_dtype=self.torch_dtype)\n",
    "        with init_empty_weights(): # while buffers are not empty\n",
    "            self.hf_model = AutoModelForCausalLM.from_config(self.config, torch_dtype=self.torch_dtype)\n",
    "        self.layers, self.layers_name = self.get_layers()\n",
    "        \n",
    "        self.comp_device = comp_device\n",
    "\n",
    "        self.dm_engine = Engine(self.comp_device)\n",
    "\n",
    "        # init model \n",
    "        self.hf_model = hf_model.to(comp_device)\n",
    "\n",
    "\n",
    "    def get_layers(self) -> tuple[nn.Module, str]:\n",
    "        if isinstance(self.hf_model, (OPTForCausalLM, )):\n",
    "            return self.hf_model.model.decoder.layers, 'model.decoder.layers'\n",
    "        else:\n",
    "            def find_module_list(module: nn.Module) -> tuple[nn.Module, str]:\n",
    "                def _find_module_list(module: nn.Module, prefix=''):\n",
    "                    if isinstance(module, nn.ModuleList):\n",
    "                        yield module, prefix\n",
    "                    else:\n",
    "                        for name, child in module.named_children():\n",
    "                            yield from _find_module_list(child, prefix=prefix+'.'+name if prefix else name)\n",
    "                \n",
    "                g = _find_module_list(module)\n",
    "                try:\n",
    "                    return next(iter(g))\n",
    "                except:\n",
    "                    raise ValueError(f'{module.__class__.__name__} does not have a nn.ModuleList structure')\n",
    "\n",
    "            return find_module_list(self.hf_model)\n",
    "    \n",
    "    def override_layer_forward(self, i: int):\n",
    "        layer = self.layers[i]\n",
    "        old_forward = layer.forward\n",
    "\n",
    "        @functools.wraps(old_forward)\n",
    "        def new_forward(*args, **kwargs):\n",
    "            print(f'\\t{i = }, {get_info(args) = }, \\n\\t{i = }, {get_info(kwargs) = }')\n",
    "\n",
    "            if isinstance(self.hf_model, (OPTForCausalLM, )):\n",
    "                actv_recomp = args[0] # b,1,h / bzh\n",
    "                kv_cache = kwargs.get('past_key_value') # b,n_kv_heads,s_cache,h_kv    x2\n",
    "                attn_mask = kwargs.get('attention_mask') # b,1,1,s_all  (bsz, 1, tgt_len, src_len)\n",
    "\n",
    "            # new to hf: args, kwargs\n",
    "            args_for_old = args\n",
    "            kwargs_for_old = kwargs\n",
    "\n",
    "            # hf execution\n",
    "            old_output = old_forward(*args_for_old, **kwargs_for_old) # h'=(b,z,h), kv=(b,n,s_all,h) x2\n",
    "            \n",
    "            # hf to new: output\n",
    "            output = old_output\n",
    "            print(f'\\t{i = }, {get_info(output) = }\\n')\n",
    "            \n",
    "            return output\n",
    "        \n",
    "        layer.forward = new_forward\n",
    "        return layer\n",
    "\n",
    "    def override_hf_model_forward(self):\n",
    "        old_forward = self.hf_model.forward\n",
    "        @functools.wraps(old_forward)\n",
    "        def new_forward(*args, **kwargs):\n",
    "            print(f'hf_model {get_info(args) = }, \\nhf_model {get_info(kwargs) = }\\n')\n",
    "\n",
    "            # new to hf: args, kwargs\n",
    "            args_for_old = args\n",
    "            kwargs_for_old = kwargs\n",
    "\n",
    "            # hf execution\n",
    "            old_output = old_forward(*args_for_old, **kwargs_for_old) \n",
    "\n",
    "            # hf to new: output\n",
    "            output = old_output \n",
    "            print(f'hf_model {get_info(output) = }\\n')\n",
    "            \n",
    "            return output\n",
    "        \n",
    "        self.hf_model.forward = new_forward\n",
    "        return self.hf_model\n",
    "\n",
    "    def build(self):\n",
    "        for i, _ in enumerate(self.layers):\n",
    "            self.override_layer_forward(i)\n",
    "        self.override_hf_model_forward()\n",
    "        return self.hf_model \n",
    "\n"
   ]
  },
  {
   "cell_type": "code",
   "execution_count": null,
   "metadata": {},
   "outputs": [],
   "source": [
    "num_prompts = 16\n",
    "prompts = None\n",
    "checkpoint = 'facebook/opt-125m'\n",
    "prompt_len = 50\n",
    "comp_device = 0\n",
    "gen_len = 20\n",
    "\n",
    "\n",
    "hf_model= OPTForCausalLM.from_pretrained(checkpoint)\n",
    "model = Model(hf_model, comp_device=comp_device).build()\n",
    "model = model.to(comp_device) # \n",
    "\n",
    "# test\n",
    "if True:\n",
    "    if prompts is None:  # get default prompts\n",
    "        prompts = [\n",
    "            \"for i in range(10): \",\n",
    "            \"Who are you? Are you conscious?\",\n",
    "            \"Where is Deutschland?\",\n",
    "            \"How is Huawei Mate 60 Pro?\",\n",
    "        ]\n",
    "    prompts = (\n",
    "        prompts * (num_prompts // len(prompts))\n",
    "        + prompts[: (num_prompts % len(prompts))]\n",
    "    )\n",
    "\n",
    "    # tokenizer\n",
    "    tokenizer = AutoTokenizer.from_pretrained(checkpoint) # , padding_side=\"left\"\n",
    "    if tokenizer.pad_token is None:\n",
    "        tokenizer.pad_token = tokenizer.eos_token  # eos padding\n",
    "\n",
    "    # inputs\n",
    "    inputs = tokenizer(\n",
    "        prompts,\n",
    "        padding=\"max_length\",\n",
    "        max_length=prompt_len,\n",
    "        return_tensors=\"pt\",\n",
    "        # padding=True,\n",
    "    ).to(comp_device)\n",
    "\n",
    "    # generate\n",
    "    generate_ids = model.generate(\n",
    "        inputs.input_ids,\n",
    "        max_new_tokens=gen_len,  # max_lengths\n",
    "        \n",
    "        num_beams=6, #\n",
    "        num_beam_groups=2, #\n",
    "        diversity_penalty=0.1, #\n",
    "        # do_sample=True, #\n",
    "    )\n",
    "\n",
    "    # outputs\n",
    "    output_texts = tokenizer.batch_decode(\n",
    "        generate_ids, skip_special_tokens=True, clean_up_tokenization_spaces=False\n",
    "    )\n",
    "    print(output_texts)"
   ]
  }
 ],
 "metadata": {
  "kernelspec": {
   "display_name": "base",
   "language": "python",
   "name": "python3"
  },
  "language_info": {
   "codemirror_mode": {
    "name": "ipython",
    "version": 3
   },
   "file_extension": ".py",
   "mimetype": "text/x-python",
   "name": "python",
   "nbconvert_exporter": "python",
   "pygments_lexer": "ipython3",
   "version": "3.12.2"
  },
  "orig_nbformat": 4
 },
 "nbformat": 4,
 "nbformat_minor": 2
}
