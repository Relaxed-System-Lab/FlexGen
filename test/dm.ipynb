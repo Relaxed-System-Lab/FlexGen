{
 "cells": [
  {
   "cell_type": "code",
   "execution_count": 1,
   "metadata": {},
   "outputs": [
    {
     "name": "stderr",
     "output_type": "stream",
     "text": [
      "/home/dingfangyu/miniconda3/lib/python3.12/site-packages/tqdm/auto.py:21: TqdmWarning: IProgress not found. Please update jupyter and ipywidgets. See https://ipywidgets.readthedocs.io/en/stable/user_install.html\n",
      "  from .autonotebook import tqdm as notebook_tqdm\n"
     ]
    }
   ],
   "source": [
    "from data_movement import Engine, Task "
   ]
  },
  {
   "cell_type": "code",
   "execution_count": 9,
   "metadata": {},
   "outputs": [
    {
     "data": {
      "text/plain": [
       "(D2C(d_file_name=1, d_indices=2, c_tensor=3, c_indices=4), 1)"
      ]
     },
     "execution_count": 9,
     "metadata": {},
     "output_type": "execute_result"
    }
   ],
   "source": [
    "from dataclasses import dataclass\n",
    "@dataclass\n",
    "class D2C:\n",
    "    d_file_name: str\n",
    "    d_indices: None \n",
    "    c_tensor: None \n",
    "    c_indices: None \n",
    "\n",
    "C2D = D2C \n",
    "\n",
    "@dataclass\n",
    "class G2C:\n",
    "    g_tensor: None\n",
    "    g_indices: None\n",
    "    c_tensor: None\n",
    "    c_indices: None\n",
    "\n",
    "C2G = G2C\n",
    "\n",
    "@dataclass(frozen=True)\n",
    "class Task:\n",
    "    C2D = C2D\n",
    "    D2C = D2C\n",
    "    G2C = G2C\n",
    "    C2G = C2G \n",
    "\n",
    "t = Task.D2C(d_file_name=1, d_indices=2, c_tensor=3, c_indices=4)\n",
    "t, t.d_file_name\n"
   ]
  },
  {
   "cell_type": "code",
   "execution_count": 10,
   "metadata": {},
   "outputs": [
    {
     "ename": "TypeError",
     "evalue": "D2C.__init__() missing 1 required positional argument: 'c_indices'",
     "output_type": "error",
     "traceback": [
      "\u001b[0;31m---------------------------------------------------------------------------\u001b[0m",
      "\u001b[0;31mTypeError\u001b[0m                                 Traceback (most recent call last)",
      "Cell \u001b[0;32mIn[10], line 1\u001b[0m\n\u001b[0;32m----> 1\u001b[0m t \u001b[39m=\u001b[39m Task\u001b[39m.\u001b[39;49mD2C(d_file_name\u001b[39m=\u001b[39;49m\u001b[39m1\u001b[39;49m, d_indices\u001b[39m=\u001b[39;49m\u001b[39m2\u001b[39;49m, c_tensor\u001b[39m=\u001b[39;49m\u001b[39m3\u001b[39;49m,)\n",
      "\u001b[0;31mTypeError\u001b[0m: D2C.__init__() missing 1 required positional argument: 'c_indices'"
     ]
    }
   ],
   "source": [
    "t = Task.D2C(d_file_name=1, d_indices=2, c_tensor=3,)"
   ]
  }
 ],
 "metadata": {
  "kernelspec": {
   "display_name": "base",
   "language": "python",
   "name": "python3"
  },
  "language_info": {
   "codemirror_mode": {
    "name": "ipython",
    "version": 3
   },
   "file_extension": ".py",
   "mimetype": "text/x-python",
   "name": "python",
   "nbconvert_exporter": "python",
   "pygments_lexer": "ipython3",
   "version": "3.12.2"
  },
  "orig_nbformat": 4
 },
 "nbformat": 4,
 "nbformat_minor": 2
}
