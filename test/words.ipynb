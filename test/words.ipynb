{
 "cells": [
  {
   "cell_type": "code",
   "execution_count": 1,
   "metadata": {},
   "outputs": [
    {
     "name": "stderr",
     "output_type": "stream",
     "text": [
      "[nltk_data] Downloading package words to /home/dingfangyu/nltk_data...\n",
      "[nltk_data]   Unzipping corpora/words.zip.\n"
     ]
    }
   ],
   "source": [
    "import nltk\n",
    "nltk.download('words')\n",
    "\n",
    "from nltk.corpus import words\n",
    "\n",
    "english_words = words.words()"
   ]
  },
  {
   "cell_type": "code",
   "execution_count": 2,
   "metadata": {},
   "outputs": [
    {
     "data": {
      "text/plain": [
       "list"
      ]
     },
     "execution_count": 2,
     "metadata": {},
     "output_type": "execute_result"
    }
   ],
   "source": [
    "type(english_words)"
   ]
  },
  {
   "cell_type": "code",
   "execution_count": 3,
   "metadata": {},
   "outputs": [
    {
     "data": {
      "text/plain": [
       "236736"
      ]
     },
     "execution_count": 3,
     "metadata": {},
     "output_type": "execute_result"
    }
   ],
   "source": [
    "len(english_words)"
   ]
  },
  {
   "cell_type": "code",
   "execution_count": 5,
   "metadata": {},
   "outputs": [
    {
     "data": {
      "text/plain": [
       "['A',\n",
       " 'a',\n",
       " 'aa',\n",
       " 'aal',\n",
       " 'aalii',\n",
       " 'aam',\n",
       " 'Aani',\n",
       " 'aardvark',\n",
       " 'aardwolf',\n",
       " 'Aaron']"
      ]
     },
     "execution_count": 5,
     "metadata": {},
     "output_type": "execute_result"
    }
   ],
   "source": [
    "english_words[:10]"
   ]
  },
  {
   "cell_type": "code",
   "execution_count": 15,
   "metadata": {},
   "outputs": [
    {
     "name": "stdout",
     "output_type": "stream",
     "text": [
      "The most common Chinese meaning of 'fork' is: 叉\n"
     ]
    }
   ],
   "source": [
    "from googletrans import Translator\n",
    "\n",
    "def translate_word(word):\n",
    "    translator = Translator()\n",
    "    translation = translator.translate(word, dest='zh-cn')\n",
    "    return translation.text\n",
    "\n",
    "# 输入要翻译的英文单词\n",
    "word = input(\"Enter an English word to translate to Chinese: \")\n",
    "\n",
    "# 翻译并输出结果\n",
    "translated_word = translate_word(word)\n",
    "print(f\"The most common Chinese meaning of '{word}' is: {translated_word}\")"
   ]
  },
  {
   "cell_type": "code",
   "execution_count": 21,
   "metadata": {},
   "outputs": [
    {
     "name": "stdout",
     "output_type": "stream",
     "text": [
      "f F\n",
      "fa F A\n",
      "fad 时尚\n",
      "fe 铁\n",
      "feak Feak\n",
      "feal 纯粹\n",
      "fecal 粪便\n",
      "feck 菲克\n",
      "fed 美联储\n",
      "fei 菲\n",
      "fell 跌倒\n",
      "fels 长石\n",
      "feu feu\n",
      "feud 世仇\n",
      "few 很少\n",
      "fi fi\n",
      "flak flak\n",
      "flaw 缺陷\n",
      "fu fu\n",
      "fuci 步枪\n",
      "fud FUD\n",
      "fuff fuff\n",
      "fulk 富尔克\n",
      "full 满的\n",
      "full 满的\n"
     ]
    }
   ],
   "source": [
    "def is_substring(a, b):\n",
    "    # 初始化指针i和j\n",
    "    i = 0\n",
    "    j = 0\n",
    "    \n",
    "    # 遍历a和b，检查是否b是a的子串\n",
    "    while i < len(a) and j < len(b):\n",
    "        if a[i] == b[j]:\n",
    "            j += 1\n",
    "        i += 1\n",
    "    \n",
    "    # 如果j等于b的长度，则说明b是a的子串\n",
    "    return j == len(b)\n",
    "\n",
    "def f(inp: str, word_db: list, start):\n",
    "    for w in word_db:\n",
    "        if w[0] != start: \n",
    "            continue \n",
    "        if is_substring(inp, w):\n",
    "            print(w, translate_word(w))\n",
    "\n",
    "x = 'vhawfeulfcakdsflawi'\n",
    "f(x, english_words, 'f')"
   ]
  },
  {
   "cell_type": "code",
   "execution_count": 7,
   "metadata": {},
   "outputs": [],
   "source": []
  }
 ],
 "metadata": {
  "kernelspec": {
   "display_name": "base",
   "language": "python",
   "name": "python3"
  },
  "language_info": {
   "codemirror_mode": {
    "name": "ipython",
    "version": 3
   },
   "file_extension": ".py",
   "mimetype": "text/x-python",
   "name": "python",
   "nbconvert_exporter": "python",
   "pygments_lexer": "ipython3",
   "version": "3.12.2"
  },
  "orig_nbformat": 4
 },
 "nbformat": 4,
 "nbformat_minor": 2
}
