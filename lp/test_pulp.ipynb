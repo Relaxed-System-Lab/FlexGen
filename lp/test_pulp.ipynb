{
 "cells": [
  {
   "cell_type": "code",
   "execution_count": 61,
   "metadata": {},
   "outputs": [],
   "source": [
    "import pulp "
   ]
  },
  {
   "cell_type": "code",
   "execution_count": 62,
   "metadata": {},
   "outputs": [],
   "source": [
    "from flexgen.utils import GB, T\n",
    "\n",
    "# constants\n",
    "b, s, h = 64, 2048, 7168 \n",
    "l = 96\n",
    "\n",
    "class Bandwidths:\n",
    "    c2g = 32 * GB \n",
    "    g2c = 32 * GB \n",
    "    c2d = 3 * GB \n",
    "    d2c = 18 * GB \n",
    "\n",
    "B_type = 2 # for fp16\n",
    "class FLOPS:\n",
    "    mm = {2: 200 * T}\n",
    "\n",
    "class MemCap: \n",
    "    gmem: int = 24 * GB     # Nvidia 4090\n",
    "    cmem: int = 220 * GB    # Intel Xeon @ 2.3 GHz\n",
    "    dmem: int = 1500 * GB \n",
    "\n"
   ]
  },
  {
   "cell_type": "code",
   "execution_count": 63,
   "metadata": {},
   "outputs": [],
   "source": [
    "prob = pulp.LpProblem(name='SARecomp', sense=pulp.LpMinimize)\n"
   ]
  },
  {
   "cell_type": "code",
   "execution_count": 64,
   "metadata": {},
   "outputs": [],
   "source": [
    "# w, x, y, z refer to weights, kv cache, actv cache, recomputed actv\n",
    "\n",
    "# percents\n",
    "pxg = pulp.LpVariable('pxg', 0, 1)\n",
    "pxc = pulp.LpVariable('pxc', 0, 1)\n",
    "pxd = pulp.LpVariable('pxd', 0, 1)\n",
    "pyg = pulp.LpVariable('pyg', 0, 1)\n",
    "pyc = pulp.LpVariable('pyc', 0, 1)\n",
    "pyd = pulp.LpVariable('pyd', 0, 1)\n",
    "pz = pulp.LpVariable('pz', 0, 1)\n",
    "prob += pxg + pxc + pxd + pyg + pyc + pyd + pz == 1 \n",
    "\n",
    "pwg = pulp.LpVariable('pwg', 0, 1)\n",
    "pwc = pulp.LpVariable('pwc', 0, 1)\n",
    "pwd = pulp.LpVariable('pwd', 0, 1)\n",
    "prob += pwg + pwc + pwd == 1 "
   ]
  },
  {
   "cell_type": "code",
   "execution_count": 65,
   "metadata": {},
   "outputs": [],
   "source": [
    "# c2g, g2c, c2d, d2c, comp\n",
    "\n",
    "# dm: data movement, T: time \n",
    "dm_c2g = 12 * h ** 2 * (pwc + pwd) + 2 * b * s * h * (pxc + pxd) + b * s * h * (pyc + pyd) \n",
    "T_c2g = dm_c2g * B_type / Bandwidths.c2g \n",
    "\n",
    "dm_g2c = 2 * b * 1 * h * (pxc + pxd) + b * 1 * h * (pyc + pyd) \n",
    "T_g2c = dm_g2c * B_type / Bandwidths.g2c \n",
    "\n",
    "dm_d2c = 12 * h ** 2 * (0 + pwd) + 2 * b * s * h * (0 + pxd) + b * s * h * (0 + pyd) \n",
    "T_d2c = dm_d2c * B_type / Bandwidths.d2c \n",
    "\n",
    "dm_c2d = 2 * b * 1 * h * (0 + pxd) + b * 1 * h * (0 + pyd) \n",
    "T_c2d = dm_c2d * B_type / Bandwidths.c2d \n",
    "\n",
    "y = s * (pyg + pyc + pyd)\n",
    "z = s * pz \n",
    "comp = 3 * b * y * h ** 2 + 2 * b * s * h * (z + 1) + 12 * b * (z + 1) * h ** 2\n",
    "T_comp = comp / FLOPS.mm[B_type] \n",
    "\n",
    "T_ovl = pulp.LpVariable('T_ovl', 0)\n",
    "prob += (T_ovl >= T_c2g) and (T_ovl >= T_g2c) and (T_ovl >= T_d2c) and (T_ovl >= T_c2d) and (T_ovl >= T_comp) "
   ]
  },
  {
   "cell_type": "code",
   "execution_count": 66,
   "metadata": {},
   "outputs": [],
   "source": [
    "# mem cap constraints\n",
    "G_home = l * (12 * h ** 2 * pwg + 2 * b * s * h * pxg + b * s * h * pyg) * B_type\n",
    "C_home = l * (12 * h ** 2 * pwc + 2 * b * s * h * pxc + b * s * h * pyc) * B_type\n",
    "D_home = l * (12 * h ** 2 * pwd + 2 * b * s * h * pxd + b * s * h * pyd) * B_type\n",
    "\n",
    "G_tmp1 = 2 * b * s * h * B_type # KV\n",
    "G_tmp2 = 4 * b * z * h * B_type # ffn hidden\n",
    "G_tmp = pulp.LpVariable('G_tmp', 0)\n",
    "prob += (G_tmp >= G_tmp1) and (G_tmp >= G_tmp2) \n",
    "prob += (G_home + G_tmp <= MemCap.gmem) and (C_home <= MemCap.cmem) and (D_home <= MemCap.dmem) \n"
   ]
  },
  {
   "cell_type": "code",
   "execution_count": 67,
   "metadata": {},
   "outputs": [],
   "source": [
    "prob += T_ovl "
   ]
  },
  {
   "cell_type": "code",
   "execution_count": 68,
   "metadata": {},
   "outputs": [
    {
     "name": "stdout",
     "output_type": "stream",
     "text": [
      "Welcome to the CBC MILP Solver \n",
      "Version: 2.10.3 \n",
      "Build Date: Dec 15 2019 \n",
      "\n",
      "command line - /home/dingfangyu/miniconda3/lib/python3.8/site-packages/pulp/solverdir/cbc/linux/64/cbc /tmp/2571b48c201b4a00834ef72c128fb973-pulp.mps -timeMode elapsed -branch -printingOptions all -solution /tmp/2571b48c201b4a00834ef72c128fb973-pulp.sol (default strategy 1)\n",
      "At line 2 NAME          MODEL\n",
      "At line 3 ROWS\n",
      "At line 10 COLUMNS\n",
      "At line 32 RHS\n",
      "At line 38 BOUNDS\n",
      "At line 49 ENDATA\n",
      "Problem MODEL has 5 rows, 12 columns and 20 elements\n",
      "Coin0008I MODEL read with 0 errors\n",
      "Option for timeMode changed from cpu to elapsed\n",
      "Presolve 2 (-3) rows, 3 (-9) columns and 5 (-15) elements\n",
      "0  Obj 0 Primal inf 0.0008052447 (1)\n",
      "1  Obj 0.0002066953\n",
      "Optimal - objective value 0.0002066953\n",
      "After Postsolve, objective 0.0002066953, infeasibilities - dual 0 (0), primal 0 (0)\n",
      "Optimal objective 0.0002066953011 - 1 iterations time 0.002, Presolve 0.00\n",
      "Option for printingOptions changed from normal to all\n",
      "Total time (CPU seconds):       0.00   (Wallclock seconds):       0.00\n",
      "\n"
     ]
    }
   ],
   "source": [
    "status = prob.solve() "
   ]
  },
  {
   "cell_type": "code",
   "execution_count": 69,
   "metadata": {},
   "outputs": [
    {
     "name": "stdout",
     "output_type": "stream",
     "text": [
      "pwg = 1.0, pwc = 0.0, pwd = 0.0, pxg = 1.0, pxc = 0.0, pxd = 0.0, pyg = 0.0, pyc = 0.0, pyd = 0.0, pz = 0.0, "
     ]
    }
   ],
   "source": [
    "for x in [pwg , pwc , pwd,pxg , pxc , pxd , pyg , pyc , pyd , pz]:\n",
    "    print(f\"{x.name} = {x.value()}\", end=', ')"
   ]
  }
 ],
 "metadata": {
  "kernelspec": {
   "display_name": "base",
   "language": "python",
   "name": "python3"
  },
  "language_info": {
   "codemirror_mode": {
    "name": "ipython",
    "version": 3
   },
   "file_extension": ".py",
   "mimetype": "text/x-python",
   "name": "python",
   "nbconvert_exporter": "python",
   "pygments_lexer": "ipython3",
   "version": "3.8.18"
  },
  "orig_nbformat": 4
 },
 "nbformat": 4,
 "nbformat_minor": 2
}
